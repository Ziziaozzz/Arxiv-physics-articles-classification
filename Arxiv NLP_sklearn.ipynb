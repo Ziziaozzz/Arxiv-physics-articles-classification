{
 "cells": [
  {
   "cell_type": "code",
   "execution_count": 1,
   "id": "66674126",
   "metadata": {},
   "outputs": [],
   "source": [
    "import pandas as pd\n",
    "import numpy as np\n",
    "from pathlib import Path\n",
    "import matplotlib.pyplot as plt\n",
    "\n",
    "pd.options.display.width = 180\n",
    "pd.options.display.max_colwidth = 120\n",
    "\n",
    "data_dir = Path(r'C:\\Users\\Stille\\Desktop\\Arxiv NLP task')"
   ]
  },
  {
   "cell_type": "markdown",
   "id": "aae5a57f",
   "metadata": {},
   "source": [
    "# Text classification with sklearn"
   ]
  },
  {
   "cell_type": "markdown",
   "id": "3ed83606",
   "metadata": {},
   "source": [
    "## Step 1. Data exploration"
   ]
  },
  {
   "cell_type": "code",
   "execution_count": 2,
   "id": "74489af4",
   "metadata": {},
   "outputs": [],
   "source": [
    "df = pd.read_csv(data_dir/\"arxiv_update.csv\") # save excel as csv utf-8"
   ]
  },
  {
   "cell_type": "code",
   "execution_count": 3,
   "id": "84d610b0",
   "metadata": {},
   "outputs": [
    {
     "data": {
      "text/html": [
       "<div>\n",
       "<style scoped>\n",
       "    .dataframe tbody tr th:only-of-type {\n",
       "        vertical-align: middle;\n",
       "    }\n",
       "\n",
       "    .dataframe tbody tr th {\n",
       "        vertical-align: top;\n",
       "    }\n",
       "\n",
       "    .dataframe thead th {\n",
       "        text-align: right;\n",
       "    }\n",
       "</style>\n",
       "<table border=\"1\" class=\"dataframe\">\n",
       "  <thead>\n",
       "    <tr style=\"text-align: right;\">\n",
       "      <th></th>\n",
       "      <th>title</th>\n",
       "      <th>abstract</th>\n",
       "      <th>categories</th>\n",
       "    </tr>\n",
       "  </thead>\n",
       "  <tbody>\n",
       "    <tr>\n",
       "      <th>0</th>\n",
       "      <td>New air fluorescence detectors employed in the\\nTelescope Array experiment\\n</td>\n",
       "      <td>Since 2007, the Telescope Array (TA) experiment, based in Utah, USA, has\\nbeen observing ultra high energy cosmic ra...</td>\n",
       "      <td>Astrophysics</td>\n",
       "    </tr>\n",
       "    <tr>\n",
       "      <th>1</th>\n",
       "      <td>THE RELATION BETWEEN EJECTA VELOCITY, INTRINSIC COLOR, AND HOST-GALAXY MASS FOR HIGH-REDSHIFT TYPE Ia SUPERNOVAE\\n</td>\n",
       "      <td>Recently, using a large low-redshift sample of Type Ia supernovae (SNe Ia), we discovered a relation\\nbetween SN Ia ...</td>\n",
       "      <td>Astrophysics</td>\n",
       "    </tr>\n",
       "    <tr>\n",
       "      <th>2</th>\n",
       "      <td>The JCMT Nearby Galaxies Legacy Survey. VII. Hα\\nimaging and massive star formation properties</td>\n",
       "      <td>We present Hα fluxes, star formation rates (SFRs) and equivalent widths (EWs) for\\na sample of 156 nearby galaxies o...</td>\n",
       "      <td>Astrophysics</td>\n",
       "    </tr>\n",
       "    <tr>\n",
       "      <th>3</th>\n",
       "      <td>The magnetic field of IRAS 16293-2422 as traced by shock-induced\\nH2O masers</td>\n",
       "      <td>Context. Shock-induced H2O masers are important magnetic field tracers at very high density gas. Water masers are fo...</td>\n",
       "      <td>Astrophysics</td>\n",
       "    </tr>\n",
       "    <tr>\n",
       "      <th>4</th>\n",
       "      <td>Scars of Intense Accretion Episodes at Metal-Rich White\\nDwarfs\\n</td>\n",
       "      <td>A re-evaluation of time-averaged accretion rates at DBZ-type white dwarfs points\\nto historical, time-averaged rates...</td>\n",
       "      <td>Astrophysics</td>\n",
       "    </tr>\n",
       "  </tbody>\n",
       "</table>\n",
       "</div>"
      ],
      "text/plain": [
       "                                                                                                                title  \\\n",
       "0                                        New air fluorescence detectors employed in the\\nTelescope Array experiment\\n   \n",
       "1  THE RELATION BETWEEN EJECTA VELOCITY, INTRINSIC COLOR, AND HOST-GALAXY MASS FOR HIGH-REDSHIFT TYPE Ia SUPERNOVAE\\n   \n",
       "2                      The JCMT Nearby Galaxies Legacy Survey. VII. Hα\\nimaging and massive star formation properties   \n",
       "3                                        The magnetic field of IRAS 16293-2422 as traced by shock-induced\\nH2O masers   \n",
       "4                                                   Scars of Intense Accretion Episodes at Metal-Rich White\\nDwarfs\\n   \n",
       "\n",
       "                                                                                                                  abstract    categories  \n",
       "0  Since 2007, the Telescope Array (TA) experiment, based in Utah, USA, has\\nbeen observing ultra high energy cosmic ra...  Astrophysics  \n",
       "1  Recently, using a large low-redshift sample of Type Ia supernovae (SNe Ia), we discovered a relation\\nbetween SN Ia ...  Astrophysics  \n",
       "2  We present Hα fluxes, star formation rates (SFRs) and equivalent widths (EWs) for\\na sample of 156 nearby galaxies o...  Astrophysics  \n",
       "3  Context. Shock-induced H2O masers are important magnetic field tracers at very high density gas. Water masers are fo...  Astrophysics  \n",
       "4  A re-evaluation of time-averaged accretion rates at DBZ-type white dwarfs points\\nto historical, time-averaged rates...  Astrophysics  "
      ]
     },
     "execution_count": 3,
     "metadata": {},
     "output_type": "execute_result"
    }
   ],
   "source": [
    "df.head()"
   ]
  },
  {
   "cell_type": "code",
   "execution_count": 4,
   "id": "478b22b3",
   "metadata": {},
   "outputs": [],
   "source": [
    "col = ['title', 'abstract', 'categories']\n",
    "df = df[col]\n",
    "df.columns = ['title', 'abstract', 'categories']"
   ]
  },
  {
   "cell_type": "code",
   "execution_count": 5,
   "id": "b3325497",
   "metadata": {},
   "outputs": [
    {
     "data": {
      "text/html": [
       "<div>\n",
       "<style scoped>\n",
       "    .dataframe tbody tr th:only-of-type {\n",
       "        vertical-align: middle;\n",
       "    }\n",
       "\n",
       "    .dataframe tbody tr th {\n",
       "        vertical-align: top;\n",
       "    }\n",
       "\n",
       "    .dataframe thead th {\n",
       "        text-align: right;\n",
       "    }\n",
       "</style>\n",
       "<table border=\"1\" class=\"dataframe\">\n",
       "  <thead>\n",
       "    <tr style=\"text-align: right;\">\n",
       "      <th></th>\n",
       "      <th>title</th>\n",
       "      <th>abstract</th>\n",
       "      <th>categories</th>\n",
       "      <th>category_id</th>\n",
       "    </tr>\n",
       "  </thead>\n",
       "  <tbody>\n",
       "    <tr>\n",
       "      <th>0</th>\n",
       "      <td>New air fluorescence detectors employed in the\\nTelescope Array experiment\\n</td>\n",
       "      <td>Since 2007, the Telescope Array (TA) experiment, based in Utah, USA, has\\nbeen observing ultra high energy cosmic ra...</td>\n",
       "      <td>Astrophysics</td>\n",
       "      <td>0</td>\n",
       "    </tr>\n",
       "    <tr>\n",
       "      <th>1</th>\n",
       "      <td>THE RELATION BETWEEN EJECTA VELOCITY, INTRINSIC COLOR, AND HOST-GALAXY MASS FOR HIGH-REDSHIFT TYPE Ia SUPERNOVAE\\n</td>\n",
       "      <td>Recently, using a large low-redshift sample of Type Ia supernovae (SNe Ia), we discovered a relation\\nbetween SN Ia ...</td>\n",
       "      <td>Astrophysics</td>\n",
       "      <td>0</td>\n",
       "    </tr>\n",
       "    <tr>\n",
       "      <th>2</th>\n",
       "      <td>The JCMT Nearby Galaxies Legacy Survey. VII. Hα\\nimaging and massive star formation properties</td>\n",
       "      <td>We present Hα fluxes, star formation rates (SFRs) and equivalent widths (EWs) for\\na sample of 156 nearby galaxies o...</td>\n",
       "      <td>Astrophysics</td>\n",
       "      <td>0</td>\n",
       "    </tr>\n",
       "    <tr>\n",
       "      <th>3</th>\n",
       "      <td>The magnetic field of IRAS 16293-2422 as traced by shock-induced\\nH2O masers</td>\n",
       "      <td>Context. Shock-induced H2O masers are important magnetic field tracers at very high density gas. Water masers are fo...</td>\n",
       "      <td>Astrophysics</td>\n",
       "      <td>0</td>\n",
       "    </tr>\n",
       "    <tr>\n",
       "      <th>4</th>\n",
       "      <td>Scars of Intense Accretion Episodes at Metal-Rich White\\nDwarfs\\n</td>\n",
       "      <td>A re-evaluation of time-averaged accretion rates at DBZ-type white dwarfs points\\nto historical, time-averaged rates...</td>\n",
       "      <td>Astrophysics</td>\n",
       "      <td>0</td>\n",
       "    </tr>\n",
       "    <tr>\n",
       "      <th>5</th>\n",
       "      <td>DUST EXTINCTION BIAS IN THE COLUMN DENSITY DISTRIBUTION OF GAMMA-RAY BURSTS; HIGH COLUMN\\nDENSITY, LOW REDSHIFT GRBS...</td>\n",
       "      <td>The afterglows of gamma-ray bursts (GRBs) have more soft X-ray absorption than expected from the foreground gas colu...</td>\n",
       "      <td>Astrophysics</td>\n",
       "      <td>0</td>\n",
       "    </tr>\n",
       "    <tr>\n",
       "      <th>6</th>\n",
       "      <td>THE ZCOSMOS1 20K GROUP CATALOG\\n</td>\n",
       "      <td>We present an optical group catalog between 0.1 . z . 1 based on 16,500 high-quality spectroscopic\\nredshifts in the...</td>\n",
       "      <td>Astrophysics</td>\n",
       "      <td>0</td>\n",
       "    </tr>\n",
       "    <tr>\n",
       "      <th>7</th>\n",
       "      <td>Making Galaxies in a Cosmological Context: The Need for\\nEarly Stellar Feedback</td>\n",
       "      <td>We introduce the Making Galaxies in a Cosmological Context (MaGICC) program\\nof smoothed particle hydrodynamics (SPH...</td>\n",
       "      <td>Astrophysics</td>\n",
       "      <td>0</td>\n",
       "    </tr>\n",
       "    <tr>\n",
       "      <th>8</th>\n",
       "      <td>THE TEMPERATURE-DENSITY RELATION IN THE INTERGALACTIC MEDIUM AT REDSHIFT hZi = 2.4</td>\n",
       "      <td>We present new measurements of the temperature-density (T − ρ) relation for neutral hydrogen\\nin the 2.0 &lt; z &lt; 2.8 i...</td>\n",
       "      <td>Astrophysics</td>\n",
       "      <td>0</td>\n",
       "    </tr>\n",
       "    <tr>\n",
       "      <th>9</th>\n",
       "      <td>Dipole leakage and low CMB multipoles</td>\n",
       "      <td>A number of studies of WMAP-7 have highlighted that the power at the low\\nmultipoles in CMB power spectrum are lower...</td>\n",
       "      <td>Astrophysics</td>\n",
       "      <td>0</td>\n",
       "    </tr>\n",
       "    <tr>\n",
       "      <th>10</th>\n",
       "      <td>Extragalactic number counts at 100 µm, free from cosmic variance</td>\n",
       "      <td>We use data from the DEBRIS survey, taken at 100 µm with the PACS instrument on board\\nthe Herschel Space Observator...</td>\n",
       "      <td>Astrophysics</td>\n",
       "      <td>0</td>\n",
       "    </tr>\n",
       "    <tr>\n",
       "      <th>11</th>\n",
       "      <td>Very deep spectroscopy of the bright Saturn Nebula NGC 7009 – II. Analysis of the rich optical recombination spectrum</td>\n",
       "      <td>In Paper I, we presented deep, long-slit spectrum of the bright Saturn nebula NGC 7009.\\nNumerous permitted lines em...</td>\n",
       "      <td>Astrophysics</td>\n",
       "      <td>0</td>\n",
       "    </tr>\n",
       "    <tr>\n",
       "      <th>12</th>\n",
       "      <td>Ferromagnetism in ZnO co-doped with Mn and N\\nstudied by soft x-ray magnetic circular dichroism</td>\n",
       "      <td>We have investigated the electronic structure of ZnO:Mn and ZnO:Mn,N\\nthin films using x-ray magnetic circular dichr...</td>\n",
       "      <td>Condensed Matter</td>\n",
       "      <td>1</td>\n",
       "    </tr>\n",
       "    <tr>\n",
       "      <th>13</th>\n",
       "      <td>Density functional theory studies of interactions of graphene with its environment: substrate, gate dielectric and e...</td>\n",
       "      <td>This paper reviews the theoretical work undertaken using density functional theory (DFT) to explore graphene’s inter...</td>\n",
       "      <td>Condensed Matter</td>\n",
       "      <td>1</td>\n",
       "    </tr>\n",
       "    <tr>\n",
       "      <th>14</th>\n",
       "      <td>Spinful Composite Fermions in a Negative Effective Field</td>\n",
       "      <td>In this paper, we study fractional quantum Hall composite fermion wavefunctions at filling fractions ν = 2/3, 3/5, a...</td>\n",
       "      <td>Condensed Matter</td>\n",
       "      <td>1</td>\n",
       "    </tr>\n",
       "    <tr>\n",
       "      <th>15</th>\n",
       "      <td>Low-energy local density of states of the 1D Hubbard model</td>\n",
       "      <td>We examine the local density of states (DOS) at low energies numerically and analytically for the\\nHubbard model in ...</td>\n",
       "      <td>Condensed Matter</td>\n",
       "      <td>1</td>\n",
       "    </tr>\n",
       "    <tr>\n",
       "      <th>16</th>\n",
       "      <td>Instanton Calculus of Lifshitz Tails</td>\n",
       "      <td>For noninteracting particles moving in a Gaussian random potential, there exists a disagreement\\nin the literature o...</td>\n",
       "      <td>Condensed Matter</td>\n",
       "      <td>1</td>\n",
       "    </tr>\n",
       "    <tr>\n",
       "      <th>17</th>\n",
       "      <td>Short-Range Correlations and Cooling of Ultracold Fermions\\nin the Honeycomb Lattice\\n</td>\n",
       "      <td>We use determinantal quantum Monte Carlo simulations and numerical linked-cluster expansions\\nto study thermodynamic...</td>\n",
       "      <td>Condensed Matter</td>\n",
       "      <td>1</td>\n",
       "    </tr>\n",
       "    <tr>\n",
       "      <th>18</th>\n",
       "      <td>The Study of Goldstone Modes in ν=2 Bilayer Quantum Hall\\nSystems</td>\n",
       "      <td>At the filling factor ν=2, the bilayer quantum Hall system has three phases, the spin-ferromagnet\\nphase, the spin s...</td>\n",
       "      <td>Condensed Matter</td>\n",
       "      <td>1</td>\n",
       "    </tr>\n",
       "    <tr>\n",
       "      <th>19</th>\n",
       "      <td>Surface Acoustic Wave-Driven Ferromagnetic Resonance in Nickel Thin Films: Theory and Experiment</td>\n",
       "      <td>We present an extensive experimental and theoretical study of surface acoustic wave-driven ferromagnetic resonance. ...</td>\n",
       "      <td>Condensed Matter</td>\n",
       "      <td>1</td>\n",
       "    </tr>\n",
       "  </tbody>\n",
       "</table>\n",
       "</div>"
      ],
      "text/plain": [
       "                                                                                                                      title  \\\n",
       "0                                              New air fluorescence detectors employed in the\\nTelescope Array experiment\\n   \n",
       "1        THE RELATION BETWEEN EJECTA VELOCITY, INTRINSIC COLOR, AND HOST-GALAXY MASS FOR HIGH-REDSHIFT TYPE Ia SUPERNOVAE\\n   \n",
       "2                            The JCMT Nearby Galaxies Legacy Survey. VII. Hα\\nimaging and massive star formation properties   \n",
       "3                                              The magnetic field of IRAS 16293-2422 as traced by shock-induced\\nH2O masers   \n",
       "4                                                         Scars of Intense Accretion Episodes at Metal-Rich White\\nDwarfs\\n   \n",
       "5   DUST EXTINCTION BIAS IN THE COLUMN DENSITY DISTRIBUTION OF GAMMA-RAY BURSTS; HIGH COLUMN\\nDENSITY, LOW REDSHIFT GRBS...   \n",
       "6                                                                                          THE ZCOSMOS1 20K GROUP CATALOG\\n   \n",
       "7                                           Making Galaxies in a Cosmological Context: The Need for\\nEarly Stellar Feedback   \n",
       "8                                        THE TEMPERATURE-DENSITY RELATION IN THE INTERGALACTIC MEDIUM AT REDSHIFT hZi = 2.4   \n",
       "9                                                                                     Dipole leakage and low CMB multipoles   \n",
       "10                                                         Extragalactic number counts at 100 µm, free from cosmic variance   \n",
       "11    Very deep spectroscopy of the bright Saturn Nebula NGC 7009 – II. Analysis of the rich optical recombination spectrum   \n",
       "12                          Ferromagnetism in ZnO co-doped with Mn and N\\nstudied by soft x-ray magnetic circular dichroism   \n",
       "13  Density functional theory studies of interactions of graphene with its environment: substrate, gate dielectric and e...   \n",
       "14                                                                 Spinful Composite Fermions in a Negative Effective Field   \n",
       "15                                                               Low-energy local density of states of the 1D Hubbard model   \n",
       "16                                                                                     Instanton Calculus of Lifshitz Tails   \n",
       "17                                   Short-Range Correlations and Cooling of Ultracold Fermions\\nin the Honeycomb Lattice\\n   \n",
       "18                                                        The Study of Goldstone Modes in ν=2 Bilayer Quantum Hall\\nSystems   \n",
       "19                         Surface Acoustic Wave-Driven Ferromagnetic Resonance in Nickel Thin Films: Theory and Experiment   \n",
       "\n",
       "                                                                                                                   abstract        categories  category_id  \n",
       "0   Since 2007, the Telescope Array (TA) experiment, based in Utah, USA, has\\nbeen observing ultra high energy cosmic ra...      Astrophysics            0  \n",
       "1   Recently, using a large low-redshift sample of Type Ia supernovae (SNe Ia), we discovered a relation\\nbetween SN Ia ...      Astrophysics            0  \n",
       "2   We present Hα fluxes, star formation rates (SFRs) and equivalent widths (EWs) for\\na sample of 156 nearby galaxies o...      Astrophysics            0  \n",
       "3   Context. Shock-induced H2O masers are important magnetic field tracers at very high density gas. Water masers are fo...      Astrophysics            0  \n",
       "4   A re-evaluation of time-averaged accretion rates at DBZ-type white dwarfs points\\nto historical, time-averaged rates...      Astrophysics            0  \n",
       "5   The afterglows of gamma-ray bursts (GRBs) have more soft X-ray absorption than expected from the foreground gas colu...      Astrophysics            0  \n",
       "6   We present an optical group catalog between 0.1 . z . 1 based on 16,500 high-quality spectroscopic\\nredshifts in the...      Astrophysics            0  \n",
       "7   We introduce the Making Galaxies in a Cosmological Context (MaGICC) program\\nof smoothed particle hydrodynamics (SPH...      Astrophysics            0  \n",
       "8   We present new measurements of the temperature-density (T − ρ) relation for neutral hydrogen\\nin the 2.0 < z < 2.8 i...      Astrophysics            0  \n",
       "9   A number of studies of WMAP-7 have highlighted that the power at the low\\nmultipoles in CMB power spectrum are lower...      Astrophysics            0  \n",
       "10  We use data from the DEBRIS survey, taken at 100 µm with the PACS instrument on board\\nthe Herschel Space Observator...      Astrophysics            0  \n",
       "11  In Paper I, we presented deep, long-slit spectrum of the bright Saturn nebula NGC 7009.\\nNumerous permitted lines em...      Astrophysics            0  \n",
       "12  We have investigated the electronic structure of ZnO:Mn and ZnO:Mn,N\\nthin films using x-ray magnetic circular dichr...  Condensed Matter            1  \n",
       "13  This paper reviews the theoretical work undertaken using density functional theory (DFT) to explore graphene’s inter...  Condensed Matter            1  \n",
       "14  In this paper, we study fractional quantum Hall composite fermion wavefunctions at filling fractions ν = 2/3, 3/5, a...  Condensed Matter            1  \n",
       "15  We examine the local density of states (DOS) at low energies numerically and analytically for the\\nHubbard model in ...  Condensed Matter            1  \n",
       "16  For noninteracting particles moving in a Gaussian random potential, there exists a disagreement\\nin the literature o...  Condensed Matter            1  \n",
       "17  We use determinantal quantum Monte Carlo simulations and numerical linked-cluster expansions\\nto study thermodynamic...  Condensed Matter            1  \n",
       "18  At the filling factor ν=2, the bilayer quantum Hall system has three phases, the spin-ferromagnet\\nphase, the spin s...  Condensed Matter            1  \n",
       "19  We present an extensive experimental and theoretical study of surface acoustic wave-driven ferromagnetic resonance. ...  Condensed Matter            1  "
      ]
     },
     "execution_count": 5,
     "metadata": {},
     "output_type": "execute_result"
    }
   ],
   "source": [
    "# Set numerical values for each category\n",
    "df['category_id'] = df['categories'].factorize()[0]\n",
    "df.head(20)"
   ]
  },
  {
   "cell_type": "code",
   "execution_count": 6,
   "id": "199047b9",
   "metadata": {},
   "outputs": [
    {
     "data": {
      "text/html": [
       "<div>\n",
       "<style scoped>\n",
       "    .dataframe tbody tr th:only-of-type {\n",
       "        vertical-align: middle;\n",
       "    }\n",
       "\n",
       "    .dataframe tbody tr th {\n",
       "        vertical-align: top;\n",
       "    }\n",
       "\n",
       "    .dataframe thead th {\n",
       "        text-align: right;\n",
       "    }\n",
       "</style>\n",
       "<table border=\"1\" class=\"dataframe\">\n",
       "  <thead>\n",
       "    <tr style=\"text-align: right;\">\n",
       "      <th></th>\n",
       "      <th>title</th>\n",
       "      <th>abstract</th>\n",
       "      <th>categories</th>\n",
       "      <th>category_id</th>\n",
       "    </tr>\n",
       "  </thead>\n",
       "  <tbody>\n",
       "    <tr>\n",
       "      <th>0</th>\n",
       "      <td>New air fluorescence detectors employed in the Telescope Array experiment</td>\n",
       "      <td>Since 2007, the Telescope Array (TA) experiment, based in Utah, USA, has been observing ultra high energy cosmic ray...</td>\n",
       "      <td>Astrophysics</td>\n",
       "      <td>0</td>\n",
       "    </tr>\n",
       "    <tr>\n",
       "      <th>1</th>\n",
       "      <td>THE RELATION BETWEEN EJECTA VELOCITY, INTRINSIC COLOR, AND HOST-GALAXY MASS FOR HIGH-REDSHIFT TYPE Ia SUPERNOVAE</td>\n",
       "      <td>Recently, using a large low-redshift sample of Type Ia supernovae (SNe Ia), we discovered a relation between SN Ia e...</td>\n",
       "      <td>Astrophysics</td>\n",
       "      <td>0</td>\n",
       "    </tr>\n",
       "    <tr>\n",
       "      <th>2</th>\n",
       "      <td>The JCMT Nearby Galaxies Legacy Survey. VII. Hα imaging and massive star formation properties</td>\n",
       "      <td>We present Hα fluxes, star formation rates (SFRs) and equivalent widths (EWs) for a sample of 156 nearby galaxies ob...</td>\n",
       "      <td>Astrophysics</td>\n",
       "      <td>0</td>\n",
       "    </tr>\n",
       "    <tr>\n",
       "      <th>3</th>\n",
       "      <td>The magnetic field of IRAS 16293-2422 as traced by shock-induced H2O masers</td>\n",
       "      <td>Context. Shock-induced H2O masers are important magnetic field tracers at very high density gas. Water masers are fo...</td>\n",
       "      <td>Astrophysics</td>\n",
       "      <td>0</td>\n",
       "    </tr>\n",
       "    <tr>\n",
       "      <th>4</th>\n",
       "      <td>Scars of Intense Accretion Episodes at Metal-Rich White Dwarfs</td>\n",
       "      <td>A re-evaluation of time-averaged accretion rates at DBZ-type white dwarfs points to historical, time-averaged rates ...</td>\n",
       "      <td>Astrophysics</td>\n",
       "      <td>0</td>\n",
       "    </tr>\n",
       "    <tr>\n",
       "      <th>...</th>\n",
       "      <td>...</td>\n",
       "      <td>...</td>\n",
       "      <td>...</td>\n",
       "      <td>...</td>\n",
       "    </tr>\n",
       "    <tr>\n",
       "      <th>163</th>\n",
       "      <td>Probing Nuclear Matter With Jets and γ-Hadron Correlations: Results from PHENIX</td>\n",
       "      <td>Fully reconstructed jets and direct photon-tagged jet fragments significantly reduce energy-loss bias, the bias towa...</td>\n",
       "      <td>Nuclear Experiment</td>\n",
       "      <td>6</td>\n",
       "    </tr>\n",
       "    <tr>\n",
       "      <th>164</th>\n",
       "      <td>The light nuclei spin structure from hadronic channels at intermediate energies</td>\n",
       "      <td>The investigation of the d, 3H and 3He spin structure has been performed at the RIKEN(Japan) accelerator research fa...</td>\n",
       "      <td>Nuclear Experiment</td>\n",
       "      <td>6</td>\n",
       "    </tr>\n",
       "    <tr>\n",
       "      <th>165</th>\n",
       "      <td>Particle-yield modification in jet-like azimuthal di-hadron correlations in Pb–Pb collisions at √sNN = 2 .76TeV</td>\n",
       "      <td>The yield of charged particles associated with highp t trigger particles (8 &lt; p t &lt; 15GeV / c) is measured with the ...</td>\n",
       "      <td>Nuclear Experiment</td>\n",
       "      <td>6</td>\n",
       "    </tr>\n",
       "    <tr>\n",
       "      <th>166</th>\n",
       "      <td>Experimental study of α-induced reactions on 64Zn for the astrophysical γ-process</td>\n",
       "      <td>For the synthesis of the heavy, proton rich isotopes in the astrophysical γ-process the precise knowledge of α-induc...</td>\n",
       "      <td>Nuclear Experiment</td>\n",
       "      <td>6</td>\n",
       "    </tr>\n",
       "    <tr>\n",
       "      <th>167</th>\n",
       "      <td>Measurement of Giant Dipole Resonance width at low temperature: A new experimental perspective</td>\n",
       "      <td>The systematic evolution of the giant dipole resonance (GDR) width in the temperature region of 0.9 ∼ 1.4 MeV has be...</td>\n",
       "      <td>Nuclear Experiment</td>\n",
       "      <td>6</td>\n",
       "    </tr>\n",
       "  </tbody>\n",
       "</table>\n",
       "<p>168 rows × 4 columns</p>\n",
       "</div>"
      ],
      "text/plain": [
       "                                                                                                                 title  \\\n",
       "0                                           New air fluorescence detectors employed in the Telescope Array experiment    \n",
       "1    THE RELATION BETWEEN EJECTA VELOCITY, INTRINSIC COLOR, AND HOST-GALAXY MASS FOR HIGH-REDSHIFT TYPE Ia SUPERNOVAE    \n",
       "2                        The JCMT Nearby Galaxies Legacy Survey. VII. Hα imaging and massive star formation properties   \n",
       "3                                          The magnetic field of IRAS 16293-2422 as traced by shock-induced H2O masers   \n",
       "4                                                      Scars of Intense Accretion Episodes at Metal-Rich White Dwarfs    \n",
       "..                                                                                                                 ...   \n",
       "163                                    Probing Nuclear Matter With Jets and γ-Hadron Correlations: Results from PHENIX   \n",
       "164                                    The light nuclei spin structure from hadronic channels at intermediate energies   \n",
       "165    Particle-yield modification in jet-like azimuthal di-hadron correlations in Pb–Pb collisions at √sNN = 2 .76TeV   \n",
       "166                                 Experimental study of α-induced reactions on 64Zn for the astrophysical γ-process    \n",
       "167                     Measurement of Giant Dipole Resonance width at low temperature: A new experimental perspective   \n",
       "\n",
       "                                                                                                                    abstract          categories  category_id  \n",
       "0    Since 2007, the Telescope Array (TA) experiment, based in Utah, USA, has been observing ultra high energy cosmic ray...        Astrophysics            0  \n",
       "1    Recently, using a large low-redshift sample of Type Ia supernovae (SNe Ia), we discovered a relation between SN Ia e...        Astrophysics            0  \n",
       "2    We present Hα fluxes, star formation rates (SFRs) and equivalent widths (EWs) for a sample of 156 nearby galaxies ob...        Astrophysics            0  \n",
       "3    Context. Shock-induced H2O masers are important magnetic field tracers at very high density gas. Water masers are fo...        Astrophysics            0  \n",
       "4    A re-evaluation of time-averaged accretion rates at DBZ-type white dwarfs points to historical, time-averaged rates ...        Astrophysics            0  \n",
       "..                                                                                                                       ...                 ...          ...  \n",
       "163  Fully reconstructed jets and direct photon-tagged jet fragments significantly reduce energy-loss bias, the bias towa...  Nuclear Experiment            6  \n",
       "164  The investigation of the d, 3H and 3He spin structure has been performed at the RIKEN(Japan) accelerator research fa...  Nuclear Experiment            6  \n",
       "165  The yield of charged particles associated with highp t trigger particles (8 < p t < 15GeV / c) is measured with the ...  Nuclear Experiment            6  \n",
       "166  For the synthesis of the heavy, proton rich isotopes in the astrophysical γ-process the precise knowledge of α-induc...  Nuclear Experiment            6  \n",
       "167  The systematic evolution of the giant dipole resonance (GDR) width in the temperature region of 0.9 ∼ 1.4 MeV has be...  Nuclear Experiment            6  \n",
       "\n",
       "[168 rows x 4 columns]"
      ]
     },
     "execution_count": 6,
     "metadata": {},
     "output_type": "execute_result"
    }
   ],
   "source": [
    "# text cleaning\n",
    "df.replace(to_replace=[r\"\\\\t|\\\\n|\\\\r\", \"\\t|\\n|\\r\"], value=[\" \",\" \"], regex=True)"
   ]
  },
  {
   "cell_type": "markdown",
   "id": "73c0abb1",
   "metadata": {},
   "source": [
    "## Step 2. Feature preparations"
   ]
  },
  {
   "cell_type": "code",
   "execution_count": 7,
   "id": "c8bb99bd",
   "metadata": {},
   "outputs": [
    {
     "data": {
      "text/plain": [
       "(168, 2248)"
      ]
     },
     "execution_count": 7,
     "metadata": {},
     "output_type": "execute_result"
    }
   ],
   "source": [
    "# Get tf-idf vector for each abstract\n",
    "from sklearn.feature_extraction.text import TfidfVectorizer\n",
    "tfidf = TfidfVectorizer(sublinear_tf=True, min_df=2, norm='l2', encoding='latin-1', ngram_range=(1, 3), stop_words='english')\n",
    "# Learn vocabulary and idf, return document-term matrix.\n",
    "features = tfidf.fit_transform(df.abstract).toarray()\n",
    "features.shape"
   ]
  },
  {
   "cell_type": "code",
   "execution_count": 8,
   "id": "3ae417c9",
   "metadata": {},
   "outputs": [],
   "source": [
    "category_id_df = df[['categories', 'category_id']].drop_duplicates().sort_values('category_id')\n",
    "category_to_id = dict(category_id_df.values)\n",
    "id_to_category = dict(category_id_df[['category_id', 'categories']].values)"
   ]
  },
  {
   "cell_type": "code",
   "execution_count": 9,
   "id": "437b1e28",
   "metadata": {},
   "outputs": [
    {
     "name": "stdout",
     "output_type": "stream",
     "text": [
      "# 'Astrophysics':\n",
      "  . Most correlated unigrams:\n",
      ". disk\n",
      ". galaxy\n",
      ". galaxies\n",
      "  . Most correlated bigrams:\n",
      ". column density\n",
      ". star forming\n",
      ". star formation\n",
      "# 'Condensed Matter':\n",
      "  . Most correlated unigrams:\n",
      ". scales\n",
      ". lattice\n",
      ". spin\n",
      "  . Most correlated bigrams:\n",
      ". recently developed\n",
      ". hubbard model\n",
      ". fermi surface\n",
      "# 'General Relativity and Quantum Cosmology':\n",
      "  . Most correlated unigrams:\n",
      ". gravity\n",
      ". scalar\n",
      ". universe\n",
      "  . Most correlated bigrams:\n",
      ". field equations\n",
      ". phase space\n",
      ". scalar field\n",
      "# 'High Energy Physics':\n",
      "  . Most correlated unigrams:\n",
      ". lhc\n",
      ". tev\n",
      ". boson\n",
      "  . Most correlated bigrams:\n",
      ". confidence level\n",
      ". pp collisions\n",
      ". standard model\n",
      "# 'Mathematical Physics':\n",
      "  . Most correlated unigrams:\n",
      ". operators\n",
      ". formula\n",
      ". prove\n",
      "  . Most correlated bigrams:\n",
      ". generating functions\n",
      ". quantum mechanical\n",
      ". pt symmetric\n",
      "# 'Nuclear Experiment':\n",
      "  . Most correlated unigrams:\n",
      ". collision\n",
      ". nucleon\n",
      ". mev\n",
      "  . Most correlated bigrams:\n",
      ". mev measured\n",
      ". elastic scattering\n",
      ". energy dependence\n",
      "# 'Quantum Physics':\n",
      "  . Most correlated unigrams:\n",
      ". communication\n",
      ". quantum\n",
      ". entanglement\n",
      "  . Most correlated bigrams:\n",
      ". error correction\n",
      ". quantum channel\n",
      ". initial state\n"
     ]
    }
   ],
   "source": [
    "# find the terms (unigrams and bigrams) that are most correlated to the field\n",
    "from sklearn.feature_selection import chi2\n",
    "labels = df.category_id\n",
    "N = 3\n",
    "for field, category_id in sorted(category_to_id.items()):\n",
    "    features_chi2 = chi2(features, labels == category_id)\n",
    "    indices = np.argsort(features_chi2[0])\n",
    "    feature_names = np.array(tfidf.get_feature_names())[indices]\n",
    "    unigrams = [v for v in feature_names if len(v.split(' ')) == 1]\n",
    "    bigrams = [v for v in feature_names if len(v.split(' ')) == 2]\n",
    "    print(\"# '{}':\".format(field))\n",
    "    print(\"  . Most correlated unigrams:\\n. {}\".format('\\n. '.join(unigrams[-N:])))\n",
    "    print(\"  . Most correlated bigrams:\\n. {}\".format('\\n. '.join(bigrams[-N:])))"
   ]
  },
  {
   "cell_type": "markdown",
   "id": "badd91c1",
   "metadata": {},
   "source": [
    "## Step 3. Modeling"
   ]
  },
  {
   "cell_type": "code",
   "execution_count": 10,
   "id": "816dbd6e",
   "metadata": {},
   "outputs": [],
   "source": [
    "from sklearn.model_selection import train_test_split\n",
    "from sklearn.feature_extraction.text import CountVectorizer\n",
    "from sklearn.feature_extraction.text import TfidfTransformer\n",
    "from sklearn.naive_bayes import MultinomialNB\n",
    "\n",
    "X_train, X_test, y_train, y_test = train_test_split(df['abstract'], df['categories'], random_state = 0)\n",
    "count_vect = CountVectorizer()\n",
    "X_train_counts = count_vect.fit_transform(X_train)\n",
    "tfidf_transformer = TfidfTransformer()\n",
    "X_train_tfidf = tfidf_transformer.fit_transform(X_train_counts)\n",
    "clf = MultinomialNB().fit(X_train_tfidf, y_train)\n",
    "\n"
   ]
  },
  {
   "cell_type": "code",
   "execution_count": 11,
   "id": "134945e8",
   "metadata": {},
   "outputs": [
    {
     "name": "stdout",
     "output_type": "stream",
     "text": [
      "['Astrophysics']\n"
     ]
    }
   ],
   "source": [
    "print(clf.predict(count_vect.transform([\"Context. Molecular maser lines are signposts of high-mass star formation, probing the excitation and kinematics of very compact regions in the close environment of young stellar objects and providing useful targets for trigonometric parallax measurements. Aims. Only a few NH3 (9,6) masers are known so far, and their origin is still poorly understood. Here we aim to find new NH3 (9,6) masers to provide a better observational basis for studying their role in high-mass star-forming regions. Methods. We carried out NH3 (9,6) observations toward Cepheus A and G34.26+0.15 with the Effelsberg 100-meter telescope (beam size 4900) and the Karl G. Jansky Very Large Array (JVLA; beam size about 100 .2). Results. We discovered new NH3 (9,6) masers in Cep A and G34.26+0.15, which increases the number of known high-mass starforming regions hosting NH3 (9,6) masers from five to seven. Long-term monitoring (20 months) at Effelsberg shows that the intensity of the (9,6) maser in G34.26+0.15 is decreasing, while the Cep A maser remains stable. Compared to the Effelsberg data and assuming linear variations between the epochs of observation, the JVLA data indicate no missing flux. This suggests that the NH3 (9,6) emission arises from single compact emission regions that are not resolved by the interferometric measurements. As JVLA imaging shows, the NH3 (9,6) emission in Cep A originates from a sub-arcsecond-sized region, slightly to the west (000 .28 ± 0 00 .10) of the peak position of the 1.36 cm continuum object, HW2. In G34.26+0.15, three NH3 (9,6) maser spots are observed: one is close to the head of the cometary ultracompact H ii region C, and the other two are emitted from a compact region to the west of the hypercompact H ii region A. Conclusions. The newly found (9,6) masers appear to be related to outflows. The higher angular resolution of JVLA and very long baseline interferometry observations are needed to provide more accurate positions and constraints for pumping scenarios.\"])))"
   ]
  },
  {
   "cell_type": "code",
   "execution_count": 12,
   "id": "6ca044c5",
   "metadata": {},
   "outputs": [
    {
     "data": {
      "image/png": "[encoded data removed]",
      "text/plain": [
       "<Figure size 640x480 with 1 Axes>"
      ]
     },
     "metadata": {},
     "output_type": "display_data"
    }
   ],
   "source": [
    "# Try different models\n",
    "from sklearn.linear_model import LogisticRegression\n",
    "from sklearn.ensemble import RandomForestClassifier\n",
    "from sklearn.svm import LinearSVC\n",
    "from sklearn.model_selection import cross_val_score\n",
    "models = [\n",
    "    RandomForestClassifier(n_estimators=200, max_depth=3, random_state=0),\n",
    "    LinearSVC(),\n",
    "    LogisticRegression(random_state=0),\n",
    "]\n",
    "CV = 5\n",
    "cv_df = pd.DataFrame(index=range(CV * len(models)))\n",
    "entries = []\n",
    "for model in models:\n",
    "    model_name = model.__class__.__name__\n",
    "    accuracies = cross_val_score(model, features, labels, scoring='accuracy', cv=CV)\n",
    "    for fold_idx, accuracy in enumerate(accuracies):\n",
    "        entries.append((model_name, fold_idx, accuracy))\n",
    "cv_df = pd.DataFrame(entries, columns=['model_name', 'fold_idx', 'accuracy'])\n",
    "import seaborn as sns\n",
    "sns.boxplot(x='model_name', y='accuracy', data=cv_df)\n",
    "sns.stripplot(x='model_name', y='accuracy', data=cv_df, \n",
    "              size=8, jitter=True, edgecolor=\"gray\", linewidth=2)\n",
    "plt.show()"
   ]
  },
  {
   "cell_type": "code",
   "execution_count": 13,
   "id": "05d2e00a",
   "metadata": {},
   "outputs": [
    {
     "data": {
      "text/plain": [
       "model_name\n",
       "LinearSVC                 0.786631\n",
       "LogisticRegression        0.792157\n",
       "RandomForestClassifier    0.631729\n",
       "Name: accuracy, dtype: float64"
      ]
     },
     "execution_count": 13,
     "metadata": {},
     "output_type": "execute_result"
    }
   ],
   "source": [
    "cv_df.groupby('model_name').accuracy.mean()"
   ]
  },
  {
   "cell_type": "code",
   "execution_count": 14,
   "id": "50d6bb33",
   "metadata": {},
   "outputs": [
    {
     "data": {
      "text/html": [
       "<div>\n",
       "<style scoped>\n",
       "    .dataframe tbody tr th:only-of-type {\n",
       "        vertical-align: middle;\n",
       "    }\n",
       "\n",
       "    .dataframe tbody tr th {\n",
       "        vertical-align: top;\n",
       "    }\n",
       "\n",
       "    .dataframe thead th {\n",
       "        text-align: right;\n",
       "    }\n",
       "</style>\n",
       "<table border=\"1\" class=\"dataframe\">\n",
       "  <thead>\n",
       "    <tr style=\"text-align: right;\">\n",
       "      <th></th>\n",
       "      <th>categories</th>\n",
       "      <th>category_id</th>\n",
       "    </tr>\n",
       "  </thead>\n",
       "  <tbody>\n",
       "    <tr>\n",
       "      <th>0</th>\n",
       "      <td>Astrophysics</td>\n",
       "      <td>0</td>\n",
       "    </tr>\n",
       "    <tr>\n",
       "      <th>12</th>\n",
       "      <td>Condensed Matter</td>\n",
       "      <td>1</td>\n",
       "    </tr>\n",
       "    <tr>\n",
       "      <th>24</th>\n",
       "      <td>General Relativity and Quantum Cosmology</td>\n",
       "      <td>2</td>\n",
       "    </tr>\n",
       "    <tr>\n",
       "      <th>36</th>\n",
       "      <td>High Energy Physics</td>\n",
       "      <td>3</td>\n",
       "    </tr>\n",
       "    <tr>\n",
       "      <th>48</th>\n",
       "      <td>Mathematical Physics</td>\n",
       "      <td>4</td>\n",
       "    </tr>\n",
       "    <tr>\n",
       "      <th>60</th>\n",
       "      <td>Quantum Physics</td>\n",
       "      <td>5</td>\n",
       "    </tr>\n",
       "    <tr>\n",
       "      <th>72</th>\n",
       "      <td>Nuclear Experiment</td>\n",
       "      <td>6</td>\n",
       "    </tr>\n",
       "  </tbody>\n",
       "</table>\n",
       "</div>"
      ],
      "text/plain": [
       "                                  categories  category_id\n",
       "0                               Astrophysics            0\n",
       "12                          Condensed Matter            1\n",
       "24  General Relativity and Quantum Cosmology            2\n",
       "36                       High Energy Physics            3\n",
       "48                      Mathematical Physics            4\n",
       "60                           Quantum Physics            5\n",
       "72                        Nuclear Experiment            6"
      ]
     },
     "execution_count": 14,
     "metadata": {},
     "output_type": "execute_result"
    }
   ],
   "source": [
    "category_id_df"
   ]
  },
  {
   "cell_type": "markdown",
   "id": "49d6cb62",
   "metadata": {},
   "source": [
    "## Step 4. Evaluations"
   ]
  },
  {
   "cell_type": "code",
   "execution_count": 15,
   "id": "caea8b3e",
   "metadata": {},
   "outputs": [
    {
     "data": {
      "image/png": "[encoded data removed]",
      "text/plain": [
       "<Figure size 1000x1000 with 2 Axes>"
      ]
     },
     "metadata": {},
     "output_type": "display_data"
    }
   ],
   "source": [
    "# Build the confusion matrix and see the discrepancies between predicted and actual labels\n",
    "model = LogisticRegression()\n",
    "X_train, X_test, y_train, y_test, indices_train, indices_test = train_test_split(features, labels, df.index, test_size=0.33, random_state=0)\n",
    "model.fit(X_train, y_train)\n",
    "y_pred = model.predict(X_test)\n",
    "from sklearn.metrics import confusion_matrix\n",
    "conf_mat = confusion_matrix(y_test, y_pred)\n",
    "fig, ax = plt.subplots(figsize=(10,10))\n",
    "sns.heatmap(conf_mat, annot=True, fmt='d',\n",
    "            xticklabels=category_id_df.categories.values, yticklabels=category_id_df.categories.values)\n",
    "plt.ylabel('Actual')\n",
    "plt.xlabel('Predicted')\n",
    "plt.show()"
   ]
  },
  {
   "cell_type": "code",
   "execution_count": 16,
   "id": "b4282027",
   "metadata": {},
   "outputs": [
    {
     "name": "stdout",
     "output_type": "stream",
     "text": [
      "'Condensed Matter' predicted as 'Astrophysics' : 0 examples.\n"
     ]
    },
    {
     "data": {
      "text/html": [
       "<div>\n",
       "<style scoped>\n",
       "    .dataframe tbody tr th:only-of-type {\n",
       "        vertical-align: middle;\n",
       "    }\n",
       "\n",
       "    .dataframe tbody tr th {\n",
       "        vertical-align: top;\n",
       "    }\n",
       "\n",
       "    .dataframe thead th {\n",
       "        text-align: right;\n",
       "    }\n",
       "</style>\n",
       "<table border=\"1\" class=\"dataframe\">\n",
       "  <thead>\n",
       "    <tr style=\"text-align: right;\">\n",
       "      <th></th>\n",
       "      <th>categories</th>\n",
       "      <th>abstract</th>\n",
       "    </tr>\n",
       "  </thead>\n",
       "  <tbody>\n",
       "  </tbody>\n",
       "</table>\n",
       "</div>"
      ],
      "text/plain": [
       "Empty DataFrame\n",
       "Columns: [categories, abstract]\n",
       "Index: []"
      ]
     },
     "metadata": {},
     "output_type": "display_data"
    },
    {
     "name": "stdout",
     "output_type": "stream",
     "text": [
      "\n",
      "'General Relativity and Quantum Cosmology' predicted as 'Astrophysics' : 0 examples.\n"
     ]
    },
    {
     "data": {
      "text/html": [
       "<div>\n",
       "<style scoped>\n",
       "    .dataframe tbody tr th:only-of-type {\n",
       "        vertical-align: middle;\n",
       "    }\n",
       "\n",
       "    .dataframe tbody tr th {\n",
       "        vertical-align: top;\n",
       "    }\n",
       "\n",
       "    .dataframe thead th {\n",
       "        text-align: right;\n",
       "    }\n",
       "</style>\n",
       "<table border=\"1\" class=\"dataframe\">\n",
       "  <thead>\n",
       "    <tr style=\"text-align: right;\">\n",
       "      <th></th>\n",
       "      <th>categories</th>\n",
       "      <th>abstract</th>\n",
       "    </tr>\n",
       "  </thead>\n",
       "  <tbody>\n",
       "  </tbody>\n",
       "</table>\n",
       "</div>"
      ],
      "text/plain": [
       "Empty DataFrame\n",
       "Columns: [categories, abstract]\n",
       "Index: []"
      ]
     },
     "metadata": {},
     "output_type": "display_data"
    },
    {
     "name": "stdout",
     "output_type": "stream",
     "text": [
      "\n",
      "'High Energy Physics' predicted as 'Astrophysics' : 0 examples.\n"
     ]
    },
    {
     "data": {
      "text/html": [
       "<div>\n",
       "<style scoped>\n",
       "    .dataframe tbody tr th:only-of-type {\n",
       "        vertical-align: middle;\n",
       "    }\n",
       "\n",
       "    .dataframe tbody tr th {\n",
       "        vertical-align: top;\n",
       "    }\n",
       "\n",
       "    .dataframe thead th {\n",
       "        text-align: right;\n",
       "    }\n",
       "</style>\n",
       "<table border=\"1\" class=\"dataframe\">\n",
       "  <thead>\n",
       "    <tr style=\"text-align: right;\">\n",
       "      <th></th>\n",
       "      <th>categories</th>\n",
       "      <th>abstract</th>\n",
       "    </tr>\n",
       "  </thead>\n",
       "  <tbody>\n",
       "  </tbody>\n",
       "</table>\n",
       "</div>"
      ],
      "text/plain": [
       "Empty DataFrame\n",
       "Columns: [categories, abstract]\n",
       "Index: []"
      ]
     },
     "metadata": {},
     "output_type": "display_data"
    },
    {
     "name": "stdout",
     "output_type": "stream",
     "text": [
      "\n",
      "'Mathematical Physics' predicted as 'Astrophysics' : 0 examples.\n"
     ]
    },
    {
     "data": {
      "text/html": [
       "<div>\n",
       "<style scoped>\n",
       "    .dataframe tbody tr th:only-of-type {\n",
       "        vertical-align: middle;\n",
       "    }\n",
       "\n",
       "    .dataframe tbody tr th {\n",
       "        vertical-align: top;\n",
       "    }\n",
       "\n",
       "    .dataframe thead th {\n",
       "        text-align: right;\n",
       "    }\n",
       "</style>\n",
       "<table border=\"1\" class=\"dataframe\">\n",
       "  <thead>\n",
       "    <tr style=\"text-align: right;\">\n",
       "      <th></th>\n",
       "      <th>categories</th>\n",
       "      <th>abstract</th>\n",
       "    </tr>\n",
       "  </thead>\n",
       "  <tbody>\n",
       "  </tbody>\n",
       "</table>\n",
       "</div>"
      ],
      "text/plain": [
       "Empty DataFrame\n",
       "Columns: [categories, abstract]\n",
       "Index: []"
      ]
     },
     "metadata": {},
     "output_type": "display_data"
    },
    {
     "name": "stdout",
     "output_type": "stream",
     "text": [
      "\n",
      "'Quantum Physics' predicted as 'Astrophysics' : 0 examples.\n"
     ]
    },
    {
     "data": {
      "text/html": [
       "<div>\n",
       "<style scoped>\n",
       "    .dataframe tbody tr th:only-of-type {\n",
       "        vertical-align: middle;\n",
       "    }\n",
       "\n",
       "    .dataframe tbody tr th {\n",
       "        vertical-align: top;\n",
       "    }\n",
       "\n",
       "    .dataframe thead th {\n",
       "        text-align: right;\n",
       "    }\n",
       "</style>\n",
       "<table border=\"1\" class=\"dataframe\">\n",
       "  <thead>\n",
       "    <tr style=\"text-align: right;\">\n",
       "      <th></th>\n",
       "      <th>categories</th>\n",
       "      <th>abstract</th>\n",
       "    </tr>\n",
       "  </thead>\n",
       "  <tbody>\n",
       "  </tbody>\n",
       "</table>\n",
       "</div>"
      ],
      "text/plain": [
       "Empty DataFrame\n",
       "Columns: [categories, abstract]\n",
       "Index: []"
      ]
     },
     "metadata": {},
     "output_type": "display_data"
    },
    {
     "name": "stdout",
     "output_type": "stream",
     "text": [
      "\n",
      "'Nuclear Experiment' predicted as 'Astrophysics' : 0 examples.\n"
     ]
    },
    {
     "data": {
      "text/html": [
       "<div>\n",
       "<style scoped>\n",
       "    .dataframe tbody tr th:only-of-type {\n",
       "        vertical-align: middle;\n",
       "    }\n",
       "\n",
       "    .dataframe tbody tr th {\n",
       "        vertical-align: top;\n",
       "    }\n",
       "\n",
       "    .dataframe thead th {\n",
       "        text-align: right;\n",
       "    }\n",
       "</style>\n",
       "<table border=\"1\" class=\"dataframe\">\n",
       "  <thead>\n",
       "    <tr style=\"text-align: right;\">\n",
       "      <th></th>\n",
       "      <th>categories</th>\n",
       "      <th>abstract</th>\n",
       "    </tr>\n",
       "  </thead>\n",
       "  <tbody>\n",
       "  </tbody>\n",
       "</table>\n",
       "</div>"
      ],
      "text/plain": [
       "Empty DataFrame\n",
       "Columns: [categories, abstract]\n",
       "Index: []"
      ]
     },
     "metadata": {},
     "output_type": "display_data"
    },
    {
     "name": "stdout",
     "output_type": "stream",
     "text": [
      "\n",
      "'Astrophysics' predicted as 'Condensed Matter' : 0 examples.\n"
     ]
    },
    {
     "data": {
      "text/html": [
       "<div>\n",
       "<style scoped>\n",
       "    .dataframe tbody tr th:only-of-type {\n",
       "        vertical-align: middle;\n",
       "    }\n",
       "\n",
       "    .dataframe tbody tr th {\n",
       "        vertical-align: top;\n",
       "    }\n",
       "\n",
       "    .dataframe thead th {\n",
       "        text-align: right;\n",
       "    }\n",
       "</style>\n",
       "<table border=\"1\" class=\"dataframe\">\n",
       "  <thead>\n",
       "    <tr style=\"text-align: right;\">\n",
       "      <th></th>\n",
       "      <th>categories</th>\n",
       "      <th>abstract</th>\n",
       "    </tr>\n",
       "  </thead>\n",
       "  <tbody>\n",
       "  </tbody>\n",
       "</table>\n",
       "</div>"
      ],
      "text/plain": [
       "Empty DataFrame\n",
       "Columns: [categories, abstract]\n",
       "Index: []"
      ]
     },
     "metadata": {},
     "output_type": "display_data"
    },
    {
     "name": "stdout",
     "output_type": "stream",
     "text": [
      "\n",
      "'General Relativity and Quantum Cosmology' predicted as 'Condensed Matter' : 0 examples.\n"
     ]
    },
    {
     "data": {
      "text/html": [
       "<div>\n",
       "<style scoped>\n",
       "    .dataframe tbody tr th:only-of-type {\n",
       "        vertical-align: middle;\n",
       "    }\n",
       "\n",
       "    .dataframe tbody tr th {\n",
       "        vertical-align: top;\n",
       "    }\n",
       "\n",
       "    .dataframe thead th {\n",
       "        text-align: right;\n",
       "    }\n",
       "</style>\n",
       "<table border=\"1\" class=\"dataframe\">\n",
       "  <thead>\n",
       "    <tr style=\"text-align: right;\">\n",
       "      <th></th>\n",
       "      <th>categories</th>\n",
       "      <th>abstract</th>\n",
       "    </tr>\n",
       "  </thead>\n",
       "  <tbody>\n",
       "  </tbody>\n",
       "</table>\n",
       "</div>"
      ],
      "text/plain": [
       "Empty DataFrame\n",
       "Columns: [categories, abstract]\n",
       "Index: []"
      ]
     },
     "metadata": {},
     "output_type": "display_data"
    },
    {
     "name": "stdout",
     "output_type": "stream",
     "text": [
      "\n",
      "'High Energy Physics' predicted as 'Condensed Matter' : 0 examples.\n"
     ]
    },
    {
     "data": {
      "text/html": [
       "<div>\n",
       "<style scoped>\n",
       "    .dataframe tbody tr th:only-of-type {\n",
       "        vertical-align: middle;\n",
       "    }\n",
       "\n",
       "    .dataframe tbody tr th {\n",
       "        vertical-align: top;\n",
       "    }\n",
       "\n",
       "    .dataframe thead th {\n",
       "        text-align: right;\n",
       "    }\n",
       "</style>\n",
       "<table border=\"1\" class=\"dataframe\">\n",
       "  <thead>\n",
       "    <tr style=\"text-align: right;\">\n",
       "      <th></th>\n",
       "      <th>categories</th>\n",
       "      <th>abstract</th>\n",
       "    </tr>\n",
       "  </thead>\n",
       "  <tbody>\n",
       "  </tbody>\n",
       "</table>\n",
       "</div>"
      ],
      "text/plain": [
       "Empty DataFrame\n",
       "Columns: [categories, abstract]\n",
       "Index: []"
      ]
     },
     "metadata": {},
     "output_type": "display_data"
    },
    {
     "name": "stdout",
     "output_type": "stream",
     "text": [
      "\n",
      "'Mathematical Physics' predicted as 'Condensed Matter' : 0 examples.\n"
     ]
    },
    {
     "data": {
      "text/html": [
       "<div>\n",
       "<style scoped>\n",
       "    .dataframe tbody tr th:only-of-type {\n",
       "        vertical-align: middle;\n",
       "    }\n",
       "\n",
       "    .dataframe tbody tr th {\n",
       "        vertical-align: top;\n",
       "    }\n",
       "\n",
       "    .dataframe thead th {\n",
       "        text-align: right;\n",
       "    }\n",
       "</style>\n",
       "<table border=\"1\" class=\"dataframe\">\n",
       "  <thead>\n",
       "    <tr style=\"text-align: right;\">\n",
       "      <th></th>\n",
       "      <th>categories</th>\n",
       "      <th>abstract</th>\n",
       "    </tr>\n",
       "  </thead>\n",
       "  <tbody>\n",
       "  </tbody>\n",
       "</table>\n",
       "</div>"
      ],
      "text/plain": [
       "Empty DataFrame\n",
       "Columns: [categories, abstract]\n",
       "Index: []"
      ]
     },
     "metadata": {},
     "output_type": "display_data"
    },
    {
     "name": "stdout",
     "output_type": "stream",
     "text": [
      "\n",
      "'Quantum Physics' predicted as 'Condensed Matter' : 2 examples.\n"
     ]
    },
    {
     "data": {
      "text/html": [
       "<div>\n",
       "<style scoped>\n",
       "    .dataframe tbody tr th:only-of-type {\n",
       "        vertical-align: middle;\n",
       "    }\n",
       "\n",
       "    .dataframe tbody tr th {\n",
       "        vertical-align: top;\n",
       "    }\n",
       "\n",
       "    .dataframe thead th {\n",
       "        text-align: right;\n",
       "    }\n",
       "</style>\n",
       "<table border=\"1\" class=\"dataframe\">\n",
       "  <thead>\n",
       "    <tr style=\"text-align: right;\">\n",
       "      <th></th>\n",
       "      <th>categories</th>\n",
       "      <th>abstract</th>\n",
       "    </tr>\n",
       "  </thead>\n",
       "  <tbody>\n",
       "    <tr>\n",
       "      <th>155</th>\n",
       "      <td>Quantum Physics</td>\n",
       "      <td>The coherence and correlation properties of effective bosonic modes of a nano-mechanical cavity composed\\nof an osci...</td>\n",
       "    </tr>\n",
       "    <tr>\n",
       "      <th>149</th>\n",
       "      <td>Quantum Physics</td>\n",
       "      <td>We study the effect of laser phase noise on the generation of stationary entanglement between\\nan intracavity optica...</td>\n",
       "    </tr>\n",
       "  </tbody>\n",
       "</table>\n",
       "</div>"
      ],
      "text/plain": [
       "          categories                                                                                                                 abstract\n",
       "155  Quantum Physics  The coherence and correlation properties of effective bosonic modes of a nano-mechanical cavity composed\\nof an osci...\n",
       "149  Quantum Physics  We study the effect of laser phase noise on the generation of stationary entanglement between\\nan intracavity optica..."
      ]
     },
     "metadata": {},
     "output_type": "display_data"
    },
    {
     "name": "stdout",
     "output_type": "stream",
     "text": [
      "\n",
      "'Nuclear Experiment' predicted as 'Condensed Matter' : 0 examples.\n"
     ]
    },
    {
     "data": {
      "text/html": [
       "<div>\n",
       "<style scoped>\n",
       "    .dataframe tbody tr th:only-of-type {\n",
       "        vertical-align: middle;\n",
       "    }\n",
       "\n",
       "    .dataframe tbody tr th {\n",
       "        vertical-align: top;\n",
       "    }\n",
       "\n",
       "    .dataframe thead th {\n",
       "        text-align: right;\n",
       "    }\n",
       "</style>\n",
       "<table border=\"1\" class=\"dataframe\">\n",
       "  <thead>\n",
       "    <tr style=\"text-align: right;\">\n",
       "      <th></th>\n",
       "      <th>categories</th>\n",
       "      <th>abstract</th>\n",
       "    </tr>\n",
       "  </thead>\n",
       "  <tbody>\n",
       "  </tbody>\n",
       "</table>\n",
       "</div>"
      ],
      "text/plain": [
       "Empty DataFrame\n",
       "Columns: [categories, abstract]\n",
       "Index: []"
      ]
     },
     "metadata": {},
     "output_type": "display_data"
    },
    {
     "name": "stdout",
     "output_type": "stream",
     "text": [
      "\n",
      "'Astrophysics' predicted as 'General Relativity and Quantum Cosmology' : 0 examples.\n"
     ]
    },
    {
     "data": {
      "text/html": [
       "<div>\n",
       "<style scoped>\n",
       "    .dataframe tbody tr th:only-of-type {\n",
       "        vertical-align: middle;\n",
       "    }\n",
       "\n",
       "    .dataframe tbody tr th {\n",
       "        vertical-align: top;\n",
       "    }\n",
       "\n",
       "    .dataframe thead th {\n",
       "        text-align: right;\n",
       "    }\n",
       "</style>\n",
       "<table border=\"1\" class=\"dataframe\">\n",
       "  <thead>\n",
       "    <tr style=\"text-align: right;\">\n",
       "      <th></th>\n",
       "      <th>categories</th>\n",
       "      <th>abstract</th>\n",
       "    </tr>\n",
       "  </thead>\n",
       "  <tbody>\n",
       "  </tbody>\n",
       "</table>\n",
       "</div>"
      ],
      "text/plain": [
       "Empty DataFrame\n",
       "Columns: [categories, abstract]\n",
       "Index: []"
      ]
     },
     "metadata": {},
     "output_type": "display_data"
    },
    {
     "name": "stdout",
     "output_type": "stream",
     "text": [
      "\n",
      "'Condensed Matter' predicted as 'General Relativity and Quantum Cosmology' : 3 examples.\n"
     ]
    },
    {
     "data": {
      "text/html": [
       "<div>\n",
       "<style scoped>\n",
       "    .dataframe tbody tr th:only-of-type {\n",
       "        vertical-align: middle;\n",
       "    }\n",
       "\n",
       "    .dataframe tbody tr th {\n",
       "        vertical-align: top;\n",
       "    }\n",
       "\n",
       "    .dataframe thead th {\n",
       "        text-align: right;\n",
       "    }\n",
       "</style>\n",
       "<table border=\"1\" class=\"dataframe\">\n",
       "  <thead>\n",
       "    <tr style=\"text-align: right;\">\n",
       "      <th></th>\n",
       "      <th>categories</th>\n",
       "      <th>abstract</th>\n",
       "    </tr>\n",
       "  </thead>\n",
       "  <tbody>\n",
       "    <tr>\n",
       "      <th>107</th>\n",
       "      <td>Condensed Matter</td>\n",
       "      <td>Generic conditions are established for producing a non-Fraunhofer response of the critical supercurrent subject to a...</td>\n",
       "    </tr>\n",
       "    <tr>\n",
       "      <th>19</th>\n",
       "      <td>Condensed Matter</td>\n",
       "      <td>We present an extensive experimental and theoretical study of surface acoustic wave-driven ferromagnetic resonance. ...</td>\n",
       "    </tr>\n",
       "    <tr>\n",
       "      <th>104</th>\n",
       "      <td>Condensed Matter</td>\n",
       "      <td>The resistivity anisotropy unveiled in the study of detwinned single crystals of the undoped 122\\npnictides is here ...</td>\n",
       "    </tr>\n",
       "  </tbody>\n",
       "</table>\n",
       "</div>"
      ],
      "text/plain": [
       "           categories                                                                                                                 abstract\n",
       "107  Condensed Matter  Generic conditions are established for producing a non-Fraunhofer response of the critical supercurrent subject to a...\n",
       "19   Condensed Matter  We present an extensive experimental and theoretical study of surface acoustic wave-driven ferromagnetic resonance. ...\n",
       "104  Condensed Matter  The resistivity anisotropy unveiled in the study of detwinned single crystals of the undoped 122\\npnictides is here ..."
      ]
     },
     "metadata": {},
     "output_type": "display_data"
    },
    {
     "name": "stdout",
     "output_type": "stream",
     "text": [
      "\n",
      "'High Energy Physics' predicted as 'General Relativity and Quantum Cosmology' : 0 examples.\n"
     ]
    },
    {
     "data": {
      "text/html": [
       "<div>\n",
       "<style scoped>\n",
       "    .dataframe tbody tr th:only-of-type {\n",
       "        vertical-align: middle;\n",
       "    }\n",
       "\n",
       "    .dataframe tbody tr th {\n",
       "        vertical-align: top;\n",
       "    }\n",
       "\n",
       "    .dataframe thead th {\n",
       "        text-align: right;\n",
       "    }\n",
       "</style>\n",
       "<table border=\"1\" class=\"dataframe\">\n",
       "  <thead>\n",
       "    <tr style=\"text-align: right;\">\n",
       "      <th></th>\n",
       "      <th>categories</th>\n",
       "      <th>abstract</th>\n",
       "    </tr>\n",
       "  </thead>\n",
       "  <tbody>\n",
       "  </tbody>\n",
       "</table>\n",
       "</div>"
      ],
      "text/plain": [
       "Empty DataFrame\n",
       "Columns: [categories, abstract]\n",
       "Index: []"
      ]
     },
     "metadata": {},
     "output_type": "display_data"
    },
    {
     "name": "stdout",
     "output_type": "stream",
     "text": [
      "\n",
      "'Mathematical Physics' predicted as 'General Relativity and Quantum Cosmology' : 3 examples.\n"
     ]
    },
    {
     "data": {
      "text/html": [
       "<div>\n",
       "<style scoped>\n",
       "    .dataframe tbody tr th:only-of-type {\n",
       "        vertical-align: middle;\n",
       "    }\n",
       "\n",
       "    .dataframe tbody tr th {\n",
       "        vertical-align: top;\n",
       "    }\n",
       "\n",
       "    .dataframe thead th {\n",
       "        text-align: right;\n",
       "    }\n",
       "</style>\n",
       "<table border=\"1\" class=\"dataframe\">\n",
       "  <thead>\n",
       "    <tr style=\"text-align: right;\">\n",
       "      <th></th>\n",
       "      <th>categories</th>\n",
       "      <th>abstract</th>\n",
       "    </tr>\n",
       "  </thead>\n",
       "  <tbody>\n",
       "    <tr>\n",
       "      <th>56</th>\n",
       "      <td>Mathematical Physics</td>\n",
       "      <td>This paper introduces and studies a field theoretic analogue of the Clebsch\\nvariational principle of classical mech...</td>\n",
       "    </tr>\n",
       "    <tr>\n",
       "      <th>55</th>\n",
       "      <td>Mathematical Physics</td>\n",
       "      <td>We describe the geometric (Berry) phases arising when some quantum systems are driven by control classical\\nparamete...</td>\n",
       "    </tr>\n",
       "    <tr>\n",
       "      <th>136</th>\n",
       "      <td>Mathematical Physics</td>\n",
       "      <td>Mathematical diffraction theory is concerned with the analysis of the diffraction image\\nof a given structure and th...</td>\n",
       "    </tr>\n",
       "  </tbody>\n",
       "</table>\n",
       "</div>"
      ],
      "text/plain": [
       "               categories                                                                                                                 abstract\n",
       "56   Mathematical Physics  This paper introduces and studies a field theoretic analogue of the Clebsch\\nvariational principle of classical mech...\n",
       "55   Mathematical Physics  We describe the geometric (Berry) phases arising when some quantum systems are driven by control classical\\nparamete...\n",
       "136  Mathematical Physics  Mathematical diffraction theory is concerned with the analysis of the diffraction image\\nof a given structure and th..."
      ]
     },
     "metadata": {},
     "output_type": "display_data"
    },
    {
     "name": "stdout",
     "output_type": "stream",
     "text": [
      "\n",
      "'Quantum Physics' predicted as 'General Relativity and Quantum Cosmology' : 0 examples.\n"
     ]
    },
    {
     "data": {
      "text/html": [
       "<div>\n",
       "<style scoped>\n",
       "    .dataframe tbody tr th:only-of-type {\n",
       "        vertical-align: middle;\n",
       "    }\n",
       "\n",
       "    .dataframe tbody tr th {\n",
       "        vertical-align: top;\n",
       "    }\n",
       "\n",
       "    .dataframe thead th {\n",
       "        text-align: right;\n",
       "    }\n",
       "</style>\n",
       "<table border=\"1\" class=\"dataframe\">\n",
       "  <thead>\n",
       "    <tr style=\"text-align: right;\">\n",
       "      <th></th>\n",
       "      <th>categories</th>\n",
       "      <th>abstract</th>\n",
       "    </tr>\n",
       "  </thead>\n",
       "  <tbody>\n",
       "  </tbody>\n",
       "</table>\n",
       "</div>"
      ],
      "text/plain": [
       "Empty DataFrame\n",
       "Columns: [categories, abstract]\n",
       "Index: []"
      ]
     },
     "metadata": {},
     "output_type": "display_data"
    },
    {
     "name": "stdout",
     "output_type": "stream",
     "text": [
      "\n",
      "'Nuclear Experiment' predicted as 'General Relativity and Quantum Cosmology' : 0 examples.\n"
     ]
    },
    {
     "data": {
      "text/html": [
       "<div>\n",
       "<style scoped>\n",
       "    .dataframe tbody tr th:only-of-type {\n",
       "        vertical-align: middle;\n",
       "    }\n",
       "\n",
       "    .dataframe tbody tr th {\n",
       "        vertical-align: top;\n",
       "    }\n",
       "\n",
       "    .dataframe thead th {\n",
       "        text-align: right;\n",
       "    }\n",
       "</style>\n",
       "<table border=\"1\" class=\"dataframe\">\n",
       "  <thead>\n",
       "    <tr style=\"text-align: right;\">\n",
       "      <th></th>\n",
       "      <th>categories</th>\n",
       "      <th>abstract</th>\n",
       "    </tr>\n",
       "  </thead>\n",
       "  <tbody>\n",
       "  </tbody>\n",
       "</table>\n",
       "</div>"
      ],
      "text/plain": [
       "Empty DataFrame\n",
       "Columns: [categories, abstract]\n",
       "Index: []"
      ]
     },
     "metadata": {},
     "output_type": "display_data"
    },
    {
     "name": "stdout",
     "output_type": "stream",
     "text": [
      "\n",
      "'Astrophysics' predicted as 'High Energy Physics' : 0 examples.\n"
     ]
    },
    {
     "data": {
      "text/html": [
       "<div>\n",
       "<style scoped>\n",
       "    .dataframe tbody tr th:only-of-type {\n",
       "        vertical-align: middle;\n",
       "    }\n",
       "\n",
       "    .dataframe tbody tr th {\n",
       "        vertical-align: top;\n",
       "    }\n",
       "\n",
       "    .dataframe thead th {\n",
       "        text-align: right;\n",
       "    }\n",
       "</style>\n",
       "<table border=\"1\" class=\"dataframe\">\n",
       "  <thead>\n",
       "    <tr style=\"text-align: right;\">\n",
       "      <th></th>\n",
       "      <th>categories</th>\n",
       "      <th>abstract</th>\n",
       "    </tr>\n",
       "  </thead>\n",
       "  <tbody>\n",
       "  </tbody>\n",
       "</table>\n",
       "</div>"
      ],
      "text/plain": [
       "Empty DataFrame\n",
       "Columns: [categories, abstract]\n",
       "Index: []"
      ]
     },
     "metadata": {},
     "output_type": "display_data"
    },
    {
     "name": "stdout",
     "output_type": "stream",
     "text": [
      "\n",
      "'Condensed Matter' predicted as 'High Energy Physics' : 0 examples.\n"
     ]
    },
    {
     "data": {
      "text/html": [
       "<div>\n",
       "<style scoped>\n",
       "    .dataframe tbody tr th:only-of-type {\n",
       "        vertical-align: middle;\n",
       "    }\n",
       "\n",
       "    .dataframe tbody tr th {\n",
       "        vertical-align: top;\n",
       "    }\n",
       "\n",
       "    .dataframe thead th {\n",
       "        text-align: right;\n",
       "    }\n",
       "</style>\n",
       "<table border=\"1\" class=\"dataframe\">\n",
       "  <thead>\n",
       "    <tr style=\"text-align: right;\">\n",
       "      <th></th>\n",
       "      <th>categories</th>\n",
       "      <th>abstract</th>\n",
       "    </tr>\n",
       "  </thead>\n",
       "  <tbody>\n",
       "  </tbody>\n",
       "</table>\n",
       "</div>"
      ],
      "text/plain": [
       "Empty DataFrame\n",
       "Columns: [categories, abstract]\n",
       "Index: []"
      ]
     },
     "metadata": {},
     "output_type": "display_data"
    },
    {
     "name": "stdout",
     "output_type": "stream",
     "text": [
      "\n",
      "'General Relativity and Quantum Cosmology' predicted as 'High Energy Physics' : 0 examples.\n"
     ]
    },
    {
     "data": {
      "text/html": [
       "<div>\n",
       "<style scoped>\n",
       "    .dataframe tbody tr th:only-of-type {\n",
       "        vertical-align: middle;\n",
       "    }\n",
       "\n",
       "    .dataframe tbody tr th {\n",
       "        vertical-align: top;\n",
       "    }\n",
       "\n",
       "    .dataframe thead th {\n",
       "        text-align: right;\n",
       "    }\n",
       "</style>\n",
       "<table border=\"1\" class=\"dataframe\">\n",
       "  <thead>\n",
       "    <tr style=\"text-align: right;\">\n",
       "      <th></th>\n",
       "      <th>categories</th>\n",
       "      <th>abstract</th>\n",
       "    </tr>\n",
       "  </thead>\n",
       "  <tbody>\n",
       "  </tbody>\n",
       "</table>\n",
       "</div>"
      ],
      "text/plain": [
       "Empty DataFrame\n",
       "Columns: [categories, abstract]\n",
       "Index: []"
      ]
     },
     "metadata": {},
     "output_type": "display_data"
    },
    {
     "name": "stdout",
     "output_type": "stream",
     "text": [
      "\n",
      "'Mathematical Physics' predicted as 'High Energy Physics' : 0 examples.\n"
     ]
    },
    {
     "data": {
      "text/html": [
       "<div>\n",
       "<style scoped>\n",
       "    .dataframe tbody tr th:only-of-type {\n",
       "        vertical-align: middle;\n",
       "    }\n",
       "\n",
       "    .dataframe tbody tr th {\n",
       "        vertical-align: top;\n",
       "    }\n",
       "\n",
       "    .dataframe thead th {\n",
       "        text-align: right;\n",
       "    }\n",
       "</style>\n",
       "<table border=\"1\" class=\"dataframe\">\n",
       "  <thead>\n",
       "    <tr style=\"text-align: right;\">\n",
       "      <th></th>\n",
       "      <th>categories</th>\n",
       "      <th>abstract</th>\n",
       "    </tr>\n",
       "  </thead>\n",
       "  <tbody>\n",
       "  </tbody>\n",
       "</table>\n",
       "</div>"
      ],
      "text/plain": [
       "Empty DataFrame\n",
       "Columns: [categories, abstract]\n",
       "Index: []"
      ]
     },
     "metadata": {},
     "output_type": "display_data"
    },
    {
     "name": "stdout",
     "output_type": "stream",
     "text": [
      "\n",
      "'Quantum Physics' predicted as 'High Energy Physics' : 0 examples.\n"
     ]
    },
    {
     "data": {
      "text/html": [
       "<div>\n",
       "<style scoped>\n",
       "    .dataframe tbody tr th:only-of-type {\n",
       "        vertical-align: middle;\n",
       "    }\n",
       "\n",
       "    .dataframe tbody tr th {\n",
       "        vertical-align: top;\n",
       "    }\n",
       "\n",
       "    .dataframe thead th {\n",
       "        text-align: right;\n",
       "    }\n",
       "</style>\n",
       "<table border=\"1\" class=\"dataframe\">\n",
       "  <thead>\n",
       "    <tr style=\"text-align: right;\">\n",
       "      <th></th>\n",
       "      <th>categories</th>\n",
       "      <th>abstract</th>\n",
       "    </tr>\n",
       "  </thead>\n",
       "  <tbody>\n",
       "  </tbody>\n",
       "</table>\n",
       "</div>"
      ],
      "text/plain": [
       "Empty DataFrame\n",
       "Columns: [categories, abstract]\n",
       "Index: []"
      ]
     },
     "metadata": {},
     "output_type": "display_data"
    },
    {
     "name": "stdout",
     "output_type": "stream",
     "text": [
      "\n",
      "'Nuclear Experiment' predicted as 'High Energy Physics' : 0 examples.\n"
     ]
    },
    {
     "data": {
      "text/html": [
       "<div>\n",
       "<style scoped>\n",
       "    .dataframe tbody tr th:only-of-type {\n",
       "        vertical-align: middle;\n",
       "    }\n",
       "\n",
       "    .dataframe tbody tr th {\n",
       "        vertical-align: top;\n",
       "    }\n",
       "\n",
       "    .dataframe thead th {\n",
       "        text-align: right;\n",
       "    }\n",
       "</style>\n",
       "<table border=\"1\" class=\"dataframe\">\n",
       "  <thead>\n",
       "    <tr style=\"text-align: right;\">\n",
       "      <th></th>\n",
       "      <th>categories</th>\n",
       "      <th>abstract</th>\n",
       "    </tr>\n",
       "  </thead>\n",
       "  <tbody>\n",
       "  </tbody>\n",
       "</table>\n",
       "</div>"
      ],
      "text/plain": [
       "Empty DataFrame\n",
       "Columns: [categories, abstract]\n",
       "Index: []"
      ]
     },
     "metadata": {},
     "output_type": "display_data"
    },
    {
     "name": "stdout",
     "output_type": "stream",
     "text": [
      "\n",
      "'Astrophysics' predicted as 'Mathematical Physics' : 0 examples.\n"
     ]
    },
    {
     "data": {
      "text/html": [
       "<div>\n",
       "<style scoped>\n",
       "    .dataframe tbody tr th:only-of-type {\n",
       "        vertical-align: middle;\n",
       "    }\n",
       "\n",
       "    .dataframe tbody tr th {\n",
       "        vertical-align: top;\n",
       "    }\n",
       "\n",
       "    .dataframe thead th {\n",
       "        text-align: right;\n",
       "    }\n",
       "</style>\n",
       "<table border=\"1\" class=\"dataframe\">\n",
       "  <thead>\n",
       "    <tr style=\"text-align: right;\">\n",
       "      <th></th>\n",
       "      <th>categories</th>\n",
       "      <th>abstract</th>\n",
       "    </tr>\n",
       "  </thead>\n",
       "  <tbody>\n",
       "  </tbody>\n",
       "</table>\n",
       "</div>"
      ],
      "text/plain": [
       "Empty DataFrame\n",
       "Columns: [categories, abstract]\n",
       "Index: []"
      ]
     },
     "metadata": {},
     "output_type": "display_data"
    },
    {
     "name": "stdout",
     "output_type": "stream",
     "text": [
      "\n",
      "'Condensed Matter' predicted as 'Mathematical Physics' : 1 examples.\n"
     ]
    },
    {
     "data": {
      "text/html": [
       "<div>\n",
       "<style scoped>\n",
       "    .dataframe tbody tr th:only-of-type {\n",
       "        vertical-align: middle;\n",
       "    }\n",
       "\n",
       "    .dataframe tbody tr th {\n",
       "        vertical-align: top;\n",
       "    }\n",
       "\n",
       "    .dataframe thead th {\n",
       "        text-align: right;\n",
       "    }\n",
       "</style>\n",
       "<table border=\"1\" class=\"dataframe\">\n",
       "  <thead>\n",
       "    <tr style=\"text-align: right;\">\n",
       "      <th></th>\n",
       "      <th>categories</th>\n",
       "      <th>abstract</th>\n",
       "    </tr>\n",
       "  </thead>\n",
       "  <tbody>\n",
       "    <tr>\n",
       "      <th>16</th>\n",
       "      <td>Condensed Matter</td>\n",
       "      <td>For noninteracting particles moving in a Gaussian random potential, there exists a disagreement\\nin the literature o...</td>\n",
       "    </tr>\n",
       "  </tbody>\n",
       "</table>\n",
       "</div>"
      ],
      "text/plain": [
       "          categories                                                                                                                 abstract\n",
       "16  Condensed Matter  For noninteracting particles moving in a Gaussian random potential, there exists a disagreement\\nin the literature o..."
      ]
     },
     "metadata": {},
     "output_type": "display_data"
    },
    {
     "name": "stdout",
     "output_type": "stream",
     "text": [
      "\n",
      "'General Relativity and Quantum Cosmology' predicted as 'Mathematical Physics' : 0 examples.\n"
     ]
    },
    {
     "data": {
      "text/html": [
       "<div>\n",
       "<style scoped>\n",
       "    .dataframe tbody tr th:only-of-type {\n",
       "        vertical-align: middle;\n",
       "    }\n",
       "\n",
       "    .dataframe tbody tr th {\n",
       "        vertical-align: top;\n",
       "    }\n",
       "\n",
       "    .dataframe thead th {\n",
       "        text-align: right;\n",
       "    }\n",
       "</style>\n",
       "<table border=\"1\" class=\"dataframe\">\n",
       "  <thead>\n",
       "    <tr style=\"text-align: right;\">\n",
       "      <th></th>\n",
       "      <th>categories</th>\n",
       "      <th>abstract</th>\n",
       "    </tr>\n",
       "  </thead>\n",
       "  <tbody>\n",
       "  </tbody>\n",
       "</table>\n",
       "</div>"
      ],
      "text/plain": [
       "Empty DataFrame\n",
       "Columns: [categories, abstract]\n",
       "Index: []"
      ]
     },
     "metadata": {},
     "output_type": "display_data"
    },
    {
     "name": "stdout",
     "output_type": "stream",
     "text": [
      "\n",
      "'High Energy Physics' predicted as 'Mathematical Physics' : 0 examples.\n"
     ]
    },
    {
     "data": {
      "text/html": [
       "<div>\n",
       "<style scoped>\n",
       "    .dataframe tbody tr th:only-of-type {\n",
       "        vertical-align: middle;\n",
       "    }\n",
       "\n",
       "    .dataframe tbody tr th {\n",
       "        vertical-align: top;\n",
       "    }\n",
       "\n",
       "    .dataframe thead th {\n",
       "        text-align: right;\n",
       "    }\n",
       "</style>\n",
       "<table border=\"1\" class=\"dataframe\">\n",
       "  <thead>\n",
       "    <tr style=\"text-align: right;\">\n",
       "      <th></th>\n",
       "      <th>categories</th>\n",
       "      <th>abstract</th>\n",
       "    </tr>\n",
       "  </thead>\n",
       "  <tbody>\n",
       "  </tbody>\n",
       "</table>\n",
       "</div>"
      ],
      "text/plain": [
       "Empty DataFrame\n",
       "Columns: [categories, abstract]\n",
       "Index: []"
      ]
     },
     "metadata": {},
     "output_type": "display_data"
    },
    {
     "name": "stdout",
     "output_type": "stream",
     "text": [
      "\n",
      "'Quantum Physics' predicted as 'Mathematical Physics' : 3 examples.\n"
     ]
    },
    {
     "data": {
      "text/html": [
       "<div>\n",
       "<style scoped>\n",
       "    .dataframe tbody tr th:only-of-type {\n",
       "        vertical-align: middle;\n",
       "    }\n",
       "\n",
       "    .dataframe tbody tr th {\n",
       "        vertical-align: top;\n",
       "    }\n",
       "\n",
       "    .dataframe thead th {\n",
       "        text-align: right;\n",
       "    }\n",
       "</style>\n",
       "<table border=\"1\" class=\"dataframe\">\n",
       "  <thead>\n",
       "    <tr style=\"text-align: right;\">\n",
       "      <th></th>\n",
       "      <th>categories</th>\n",
       "      <th>abstract</th>\n",
       "    </tr>\n",
       "  </thead>\n",
       "  <tbody>\n",
       "    <tr>\n",
       "      <th>61</th>\n",
       "      <td>Quantum Physics</td>\n",
       "      <td>Recently Haah introduced a new quantum error correcting code embedded on a cubic lattice. One\\nof the defining prope...</td>\n",
       "    </tr>\n",
       "    <tr>\n",
       "      <th>66</th>\n",
       "      <td>Quantum Physics</td>\n",
       "      <td>In this work, we derived a semiclassical approximation for the matrix elements of a quantum\\npropagator in coherent ...</td>\n",
       "    </tr>\n",
       "    <tr>\n",
       "      <th>71</th>\n",
       "      <td>Quantum Physics</td>\n",
       "      <td>Around 2002, Leonid Gurvits gave a striking randomized algorithm to approximate the\\npermanent of an n × n matrix A....</td>\n",
       "    </tr>\n",
       "  </tbody>\n",
       "</table>\n",
       "</div>"
      ],
      "text/plain": [
       "         categories                                                                                                                 abstract\n",
       "61  Quantum Physics  Recently Haah introduced a new quantum error correcting code embedded on a cubic lattice. One\\nof the defining prope...\n",
       "66  Quantum Physics  In this work, we derived a semiclassical approximation for the matrix elements of a quantum\\npropagator in coherent ...\n",
       "71  Quantum Physics  Around 2002, Leonid Gurvits gave a striking randomized algorithm to approximate the\\npermanent of an n × n matrix A...."
      ]
     },
     "metadata": {},
     "output_type": "display_data"
    },
    {
     "name": "stdout",
     "output_type": "stream",
     "text": [
      "\n",
      "'Nuclear Experiment' predicted as 'Mathematical Physics' : 0 examples.\n"
     ]
    },
    {
     "data": {
      "text/html": [
       "<div>\n",
       "<style scoped>\n",
       "    .dataframe tbody tr th:only-of-type {\n",
       "        vertical-align: middle;\n",
       "    }\n",
       "\n",
       "    .dataframe tbody tr th {\n",
       "        vertical-align: top;\n",
       "    }\n",
       "\n",
       "    .dataframe thead th {\n",
       "        text-align: right;\n",
       "    }\n",
       "</style>\n",
       "<table border=\"1\" class=\"dataframe\">\n",
       "  <thead>\n",
       "    <tr style=\"text-align: right;\">\n",
       "      <th></th>\n",
       "      <th>categories</th>\n",
       "      <th>abstract</th>\n",
       "    </tr>\n",
       "  </thead>\n",
       "  <tbody>\n",
       "  </tbody>\n",
       "</table>\n",
       "</div>"
      ],
      "text/plain": [
       "Empty DataFrame\n",
       "Columns: [categories, abstract]\n",
       "Index: []"
      ]
     },
     "metadata": {},
     "output_type": "display_data"
    },
    {
     "name": "stdout",
     "output_type": "stream",
     "text": [
      "\n",
      "'Astrophysics' predicted as 'Quantum Physics' : 0 examples.\n"
     ]
    },
    {
     "data": {
      "text/html": [
       "<div>\n",
       "<style scoped>\n",
       "    .dataframe tbody tr th:only-of-type {\n",
       "        vertical-align: middle;\n",
       "    }\n",
       "\n",
       "    .dataframe tbody tr th {\n",
       "        vertical-align: top;\n",
       "    }\n",
       "\n",
       "    .dataframe thead th {\n",
       "        text-align: right;\n",
       "    }\n",
       "</style>\n",
       "<table border=\"1\" class=\"dataframe\">\n",
       "  <thead>\n",
       "    <tr style=\"text-align: right;\">\n",
       "      <th></th>\n",
       "      <th>categories</th>\n",
       "      <th>abstract</th>\n",
       "    </tr>\n",
       "  </thead>\n",
       "  <tbody>\n",
       "  </tbody>\n",
       "</table>\n",
       "</div>"
      ],
      "text/plain": [
       "Empty DataFrame\n",
       "Columns: [categories, abstract]\n",
       "Index: []"
      ]
     },
     "metadata": {},
     "output_type": "display_data"
    },
    {
     "name": "stdout",
     "output_type": "stream",
     "text": [
      "\n",
      "'Condensed Matter' predicted as 'Quantum Physics' : 0 examples.\n"
     ]
    },
    {
     "data": {
      "text/html": [
       "<div>\n",
       "<style scoped>\n",
       "    .dataframe tbody tr th:only-of-type {\n",
       "        vertical-align: middle;\n",
       "    }\n",
       "\n",
       "    .dataframe tbody tr th {\n",
       "        vertical-align: top;\n",
       "    }\n",
       "\n",
       "    .dataframe thead th {\n",
       "        text-align: right;\n",
       "    }\n",
       "</style>\n",
       "<table border=\"1\" class=\"dataframe\">\n",
       "  <thead>\n",
       "    <tr style=\"text-align: right;\">\n",
       "      <th></th>\n",
       "      <th>categories</th>\n",
       "      <th>abstract</th>\n",
       "    </tr>\n",
       "  </thead>\n",
       "  <tbody>\n",
       "  </tbody>\n",
       "</table>\n",
       "</div>"
      ],
      "text/plain": [
       "Empty DataFrame\n",
       "Columns: [categories, abstract]\n",
       "Index: []"
      ]
     },
     "metadata": {},
     "output_type": "display_data"
    },
    {
     "name": "stdout",
     "output_type": "stream",
     "text": [
      "\n",
      "'General Relativity and Quantum Cosmology' predicted as 'Quantum Physics' : 0 examples.\n"
     ]
    },
    {
     "data": {
      "text/html": [
       "<div>\n",
       "<style scoped>\n",
       "    .dataframe tbody tr th:only-of-type {\n",
       "        vertical-align: middle;\n",
       "    }\n",
       "\n",
       "    .dataframe tbody tr th {\n",
       "        vertical-align: top;\n",
       "    }\n",
       "\n",
       "    .dataframe thead th {\n",
       "        text-align: right;\n",
       "    }\n",
       "</style>\n",
       "<table border=\"1\" class=\"dataframe\">\n",
       "  <thead>\n",
       "    <tr style=\"text-align: right;\">\n",
       "      <th></th>\n",
       "      <th>categories</th>\n",
       "      <th>abstract</th>\n",
       "    </tr>\n",
       "  </thead>\n",
       "  <tbody>\n",
       "  </tbody>\n",
       "</table>\n",
       "</div>"
      ],
      "text/plain": [
       "Empty DataFrame\n",
       "Columns: [categories, abstract]\n",
       "Index: []"
      ]
     },
     "metadata": {},
     "output_type": "display_data"
    },
    {
     "name": "stdout",
     "output_type": "stream",
     "text": [
      "\n",
      "'High Energy Physics' predicted as 'Quantum Physics' : 0 examples.\n"
     ]
    },
    {
     "data": {
      "text/html": [
       "<div>\n",
       "<style scoped>\n",
       "    .dataframe tbody tr th:only-of-type {\n",
       "        vertical-align: middle;\n",
       "    }\n",
       "\n",
       "    .dataframe tbody tr th {\n",
       "        vertical-align: top;\n",
       "    }\n",
       "\n",
       "    .dataframe thead th {\n",
       "        text-align: right;\n",
       "    }\n",
       "</style>\n",
       "<table border=\"1\" class=\"dataframe\">\n",
       "  <thead>\n",
       "    <tr style=\"text-align: right;\">\n",
       "      <th></th>\n",
       "      <th>categories</th>\n",
       "      <th>abstract</th>\n",
       "    </tr>\n",
       "  </thead>\n",
       "  <tbody>\n",
       "  </tbody>\n",
       "</table>\n",
       "</div>"
      ],
      "text/plain": [
       "Empty DataFrame\n",
       "Columns: [categories, abstract]\n",
       "Index: []"
      ]
     },
     "metadata": {},
     "output_type": "display_data"
    },
    {
     "name": "stdout",
     "output_type": "stream",
     "text": [
      "\n",
      "'Mathematical Physics' predicted as 'Quantum Physics' : 0 examples.\n"
     ]
    },
    {
     "data": {
      "text/html": [
       "<div>\n",
       "<style scoped>\n",
       "    .dataframe tbody tr th:only-of-type {\n",
       "        vertical-align: middle;\n",
       "    }\n",
       "\n",
       "    .dataframe tbody tr th {\n",
       "        vertical-align: top;\n",
       "    }\n",
       "\n",
       "    .dataframe thead th {\n",
       "        text-align: right;\n",
       "    }\n",
       "</style>\n",
       "<table border=\"1\" class=\"dataframe\">\n",
       "  <thead>\n",
       "    <tr style=\"text-align: right;\">\n",
       "      <th></th>\n",
       "      <th>categories</th>\n",
       "      <th>abstract</th>\n",
       "    </tr>\n",
       "  </thead>\n",
       "  <tbody>\n",
       "  </tbody>\n",
       "</table>\n",
       "</div>"
      ],
      "text/plain": [
       "Empty DataFrame\n",
       "Columns: [categories, abstract]\n",
       "Index: []"
      ]
     },
     "metadata": {},
     "output_type": "display_data"
    },
    {
     "name": "stdout",
     "output_type": "stream",
     "text": [
      "\n",
      "'Nuclear Experiment' predicted as 'Quantum Physics' : 0 examples.\n"
     ]
    },
    {
     "data": {
      "text/html": [
       "<div>\n",
       "<style scoped>\n",
       "    .dataframe tbody tr th:only-of-type {\n",
       "        vertical-align: middle;\n",
       "    }\n",
       "\n",
       "    .dataframe tbody tr th {\n",
       "        vertical-align: top;\n",
       "    }\n",
       "\n",
       "    .dataframe thead th {\n",
       "        text-align: right;\n",
       "    }\n",
       "</style>\n",
       "<table border=\"1\" class=\"dataframe\">\n",
       "  <thead>\n",
       "    <tr style=\"text-align: right;\">\n",
       "      <th></th>\n",
       "      <th>categories</th>\n",
       "      <th>abstract</th>\n",
       "    </tr>\n",
       "  </thead>\n",
       "  <tbody>\n",
       "  </tbody>\n",
       "</table>\n",
       "</div>"
      ],
      "text/plain": [
       "Empty DataFrame\n",
       "Columns: [categories, abstract]\n",
       "Index: []"
      ]
     },
     "metadata": {},
     "output_type": "display_data"
    },
    {
     "name": "stdout",
     "output_type": "stream",
     "text": [
      "\n",
      "'Astrophysics' predicted as 'Nuclear Experiment' : 1 examples.\n"
     ]
    },
    {
     "data": {
      "text/html": [
       "<div>\n",
       "<style scoped>\n",
       "    .dataframe tbody tr th:only-of-type {\n",
       "        vertical-align: middle;\n",
       "    }\n",
       "\n",
       "    .dataframe tbody tr th {\n",
       "        vertical-align: top;\n",
       "    }\n",
       "\n",
       "    .dataframe thead th {\n",
       "        text-align: right;\n",
       "    }\n",
       "</style>\n",
       "<table border=\"1\" class=\"dataframe\">\n",
       "  <thead>\n",
       "    <tr style=\"text-align: right;\">\n",
       "      <th></th>\n",
       "      <th>categories</th>\n",
       "      <th>abstract</th>\n",
       "    </tr>\n",
       "  </thead>\n",
       "  <tbody>\n",
       "    <tr>\n",
       "      <th>8</th>\n",
       "      <td>Astrophysics</td>\n",
       "      <td>We present new measurements of the temperature-density (T − ρ) relation for neutral hydrogen\\nin the 2.0 &lt; z &lt; 2.8 i...</td>\n",
       "    </tr>\n",
       "  </tbody>\n",
       "</table>\n",
       "</div>"
      ],
      "text/plain": [
       "     categories                                                                                                                 abstract\n",
       "8  Astrophysics  We present new measurements of the temperature-density (T − ρ) relation for neutral hydrogen\\nin the 2.0 < z < 2.8 i..."
      ]
     },
     "metadata": {},
     "output_type": "display_data"
    },
    {
     "name": "stdout",
     "output_type": "stream",
     "text": [
      "\n",
      "'Condensed Matter' predicted as 'Nuclear Experiment' : 3 examples.\n"
     ]
    },
    {
     "data": {
      "text/html": [
       "<div>\n",
       "<style scoped>\n",
       "    .dataframe tbody tr th:only-of-type {\n",
       "        vertical-align: middle;\n",
       "    }\n",
       "\n",
       "    .dataframe tbody tr th {\n",
       "        vertical-align: top;\n",
       "    }\n",
       "\n",
       "    .dataframe thead th {\n",
       "        text-align: right;\n",
       "    }\n",
       "</style>\n",
       "<table border=\"1\" class=\"dataframe\">\n",
       "  <thead>\n",
       "    <tr style=\"text-align: right;\">\n",
       "      <th></th>\n",
       "      <th>categories</th>\n",
       "      <th>abstract</th>\n",
       "    </tr>\n",
       "  </thead>\n",
       "  <tbody>\n",
       "    <tr>\n",
       "      <th>100</th>\n",
       "      <td>Condensed Matter</td>\n",
       "      <td>We present a modified Lanczos algorithm to diagonalize lattice Hamiltonians with dramatically\\nreduced memory requir...</td>\n",
       "    </tr>\n",
       "    <tr>\n",
       "      <th>97</th>\n",
       "      <td>Condensed Matter</td>\n",
       "      <td>Nanoindentation techniques recently developed to measure the mechanical response of crystals under\\nexternal loading...</td>\n",
       "    </tr>\n",
       "    <tr>\n",
       "      <th>106</th>\n",
       "      <td>Condensed Matter</td>\n",
       "      <td>We report a highly unusual temperature dependence in the magnetoresistance of a weakly interacting high mobility 2D ...</td>\n",
       "    </tr>\n",
       "  </tbody>\n",
       "</table>\n",
       "</div>"
      ],
      "text/plain": [
       "           categories                                                                                                                 abstract\n",
       "100  Condensed Matter  We present a modified Lanczos algorithm to diagonalize lattice Hamiltonians with dramatically\\nreduced memory requir...\n",
       "97   Condensed Matter  Nanoindentation techniques recently developed to measure the mechanical response of crystals under\\nexternal loading...\n",
       "106  Condensed Matter  We report a highly unusual temperature dependence in the magnetoresistance of a weakly interacting high mobility 2D ..."
      ]
     },
     "metadata": {},
     "output_type": "display_data"
    },
    {
     "name": "stdout",
     "output_type": "stream",
     "text": [
      "\n",
      "'General Relativity and Quantum Cosmology' predicted as 'Nuclear Experiment' : 0 examples.\n"
     ]
    },
    {
     "data": {
      "text/html": [
       "<div>\n",
       "<style scoped>\n",
       "    .dataframe tbody tr th:only-of-type {\n",
       "        vertical-align: middle;\n",
       "    }\n",
       "\n",
       "    .dataframe tbody tr th {\n",
       "        vertical-align: top;\n",
       "    }\n",
       "\n",
       "    .dataframe thead th {\n",
       "        text-align: right;\n",
       "    }\n",
       "</style>\n",
       "<table border=\"1\" class=\"dataframe\">\n",
       "  <thead>\n",
       "    <tr style=\"text-align: right;\">\n",
       "      <th></th>\n",
       "      <th>categories</th>\n",
       "      <th>abstract</th>\n",
       "    </tr>\n",
       "  </thead>\n",
       "  <tbody>\n",
       "  </tbody>\n",
       "</table>\n",
       "</div>"
      ],
      "text/plain": [
       "Empty DataFrame\n",
       "Columns: [categories, abstract]\n",
       "Index: []"
      ]
     },
     "metadata": {},
     "output_type": "display_data"
    },
    {
     "name": "stdout",
     "output_type": "stream",
     "text": [
      "\n",
      "'High Energy Physics' predicted as 'Nuclear Experiment' : 0 examples.\n"
     ]
    },
    {
     "data": {
      "text/html": [
       "<div>\n",
       "<style scoped>\n",
       "    .dataframe tbody tr th:only-of-type {\n",
       "        vertical-align: middle;\n",
       "    }\n",
       "\n",
       "    .dataframe tbody tr th {\n",
       "        vertical-align: top;\n",
       "    }\n",
       "\n",
       "    .dataframe thead th {\n",
       "        text-align: right;\n",
       "    }\n",
       "</style>\n",
       "<table border=\"1\" class=\"dataframe\">\n",
       "  <thead>\n",
       "    <tr style=\"text-align: right;\">\n",
       "      <th></th>\n",
       "      <th>categories</th>\n",
       "      <th>abstract</th>\n",
       "    </tr>\n",
       "  </thead>\n",
       "  <tbody>\n",
       "  </tbody>\n",
       "</table>\n",
       "</div>"
      ],
      "text/plain": [
       "Empty DataFrame\n",
       "Columns: [categories, abstract]\n",
       "Index: []"
      ]
     },
     "metadata": {},
     "output_type": "display_data"
    },
    {
     "name": "stdout",
     "output_type": "stream",
     "text": [
      "\n",
      "'Mathematical Physics' predicted as 'Nuclear Experiment' : 0 examples.\n"
     ]
    },
    {
     "data": {
      "text/html": [
       "<div>\n",
       "<style scoped>\n",
       "    .dataframe tbody tr th:only-of-type {\n",
       "        vertical-align: middle;\n",
       "    }\n",
       "\n",
       "    .dataframe tbody tr th {\n",
       "        vertical-align: top;\n",
       "    }\n",
       "\n",
       "    .dataframe thead th {\n",
       "        text-align: right;\n",
       "    }\n",
       "</style>\n",
       "<table border=\"1\" class=\"dataframe\">\n",
       "  <thead>\n",
       "    <tr style=\"text-align: right;\">\n",
       "      <th></th>\n",
       "      <th>categories</th>\n",
       "      <th>abstract</th>\n",
       "    </tr>\n",
       "  </thead>\n",
       "  <tbody>\n",
       "  </tbody>\n",
       "</table>\n",
       "</div>"
      ],
      "text/plain": [
       "Empty DataFrame\n",
       "Columns: [categories, abstract]\n",
       "Index: []"
      ]
     },
     "metadata": {},
     "output_type": "display_data"
    },
    {
     "name": "stdout",
     "output_type": "stream",
     "text": [
      "\n",
      "'Quantum Physics' predicted as 'Nuclear Experiment' : 1 examples.\n"
     ]
    },
    {
     "data": {
      "text/html": [
       "<div>\n",
       "<style scoped>\n",
       "    .dataframe tbody tr th:only-of-type {\n",
       "        vertical-align: middle;\n",
       "    }\n",
       "\n",
       "    .dataframe tbody tr th {\n",
       "        vertical-align: top;\n",
       "    }\n",
       "\n",
       "    .dataframe thead th {\n",
       "        text-align: right;\n",
       "    }\n",
       "</style>\n",
       "<table border=\"1\" class=\"dataframe\">\n",
       "  <thead>\n",
       "    <tr style=\"text-align: right;\">\n",
       "      <th></th>\n",
       "      <th>categories</th>\n",
       "      <th>abstract</th>\n",
       "    </tr>\n",
       "  </thead>\n",
       "  <tbody>\n",
       "    <tr>\n",
       "      <th>63</th>\n",
       "      <td>Quantum Physics</td>\n",
       "      <td>We calculate the differential cross section of polarized light scattering from a cold and dense atomic ensemble.\\nTh...</td>\n",
       "    </tr>\n",
       "  </tbody>\n",
       "</table>\n",
       "</div>"
      ],
      "text/plain": [
       "         categories                                                                                                                 abstract\n",
       "63  Quantum Physics  We calculate the differential cross section of polarized light scattering from a cold and dense atomic ensemble.\\nTh..."
      ]
     },
     "metadata": {},
     "output_type": "display_data"
    },
    {
     "name": "stdout",
     "output_type": "stream",
     "text": [
      "\n"
     ]
    }
   ],
   "source": [
    "# Take a look at the wrong predictions and try to understand why it happens\n",
    "from IPython.display import display\n",
    "for predicted in category_id_df.category_id:\n",
    "    for actual in category_id_df.category_id:\n",
    "        if predicted != actual and conf_mat[actual, predicted] >= 0:\n",
    "            print(\"'{}' predicted as '{}' : {} examples.\".format(id_to_category[actual], id_to_category[predicted], conf_mat[actual, predicted]))\n",
    "            display(df.loc[indices_test[(y_test == actual) & (y_pred == predicted)]][['categories', 'abstract']])\n",
    "            print('')"
   ]
  },
  {
   "cell_type": "code",
   "execution_count": 17,
   "id": "cfa23d49",
   "metadata": {},
   "outputs": [
    {
     "name": "stdout",
     "output_type": "stream",
     "text": [
      "# 'Astrophysics':\n",
      "  . Top unigrams:\n",
      "       . galaxies\n",
      "       . galaxy\n",
      "       . star\n",
      "  . Top bigrams:\n",
      "       . star formation\n",
      "       . column density\n",
      "       . star forming\n",
      "# 'Condensed Matter':\n",
      "  . Top unigrams:\n",
      "       . spin\n",
      "       . lattice\n",
      "       . magnetic\n",
      "  . Top bigrams:\n",
      "       . density states\n",
      "       . monte carlo\n",
      "       . hubbard model\n",
      "# 'General Relativity and Quantum Cosmology':\n",
      "  . Top unigrams:\n",
      "       . scalar\n",
      "       . universe\n",
      "       . equations\n",
      "  . Top bigrams:\n",
      "       . scalar field\n",
      "       . black hole\n",
      "       . field equations\n",
      "# 'High Energy Physics':\n",
      "  . Top unigrams:\n",
      "       . tev\n",
      "       . lhc\n",
      "       . events\n",
      "  . Top bigrams:\n",
      "       . standard model\n",
      "       . pp collisions\n",
      "       . cross section\n",
      "# 'Mathematical Physics':\n",
      "  . Top unigrams:\n",
      "       . prove\n",
      "       . operators\n",
      "       . solutions\n",
      "  . Top bigrams:\n",
      "       . pt symmetric\n",
      "       . quantum mechanical\n",
      "       . generating functions\n",
      "# 'Nuclear Experiment':\n",
      "  . Top unigrams:\n",
      "       . mev\n",
      "       . collisions\n",
      "       . energy\n",
      "  . Top bigrams:\n",
      "       . energy dependence\n",
      "       . elastic scattering\n",
      "       . transverse momentum\n",
      "# 'Quantum Physics':\n",
      "  . Top unigrams:\n",
      "       . quantum\n",
      "       . entanglement\n",
      "       . channel\n",
      "  . Top bigrams:\n",
      "       . initial state\n",
      "       . quantum channel\n",
      "       . state transfer\n"
     ]
    }
   ],
   "source": [
    "model.fit(features, labels)\n",
    "N = 3\n",
    "for Product, category_id in sorted(category_to_id.items()):\n",
    "    indices = np.argsort(model.coef_[category_id])\n",
    "    feature_names = np.array(tfidf.get_feature_names())[indices]\n",
    "    unigrams = [v for v in reversed(feature_names) if len(v.split(' ')) == 1][:N]\n",
    "    bigrams = [v for v in reversed(feature_names) if len(v.split(' ')) == 2][:N]\n",
    "    print(\"# '{}':\".format(Product))\n",
    "    print(\"  . Top unigrams:\\n       . {}\".format('\\n       . '.join(unigrams)))\n",
    "    print(\"  . Top bigrams:\\n       . {}\".format('\\n       . '.join(bigrams)))"
   ]
  },
  {
   "cell_type": "code",
   "execution_count": 18,
   "id": "19efa5ee",
   "metadata": {},
   "outputs": [
    {
     "name": "stdout",
     "output_type": "stream",
     "text": [
      "                                          precision    recall  f1-score   support\n",
      "\n",
      "                            Astrophysics       1.00      0.88      0.93         8\n",
      "                        Condensed Matter       0.60      0.30      0.40        10\n",
      "General Relativity and Quantum Cosmology       0.50      1.00      0.67         6\n",
      "                     High Energy Physics       1.00      1.00      1.00         8\n",
      "                    Mathematical Physics       0.60      0.67      0.63         9\n",
      "                         Quantum Physics       1.00      0.40      0.57        10\n",
      "                      Nuclear Experiment       0.50      1.00      0.67         5\n",
      "\n",
      "                                accuracy                           0.70        56\n",
      "                               macro avg       0.74      0.75      0.70        56\n",
      "                            weighted avg       0.77      0.70      0.68        56\n",
      "\n"
     ]
    }
   ],
   "source": [
    "# Print the report for each class\n",
    "from sklearn import metrics\n",
    "print(metrics.classification_report(y_test, y_pred, target_names=df['categories'].unique()))"
   ]
  },
  {
   "cell_type": "code",
   "execution_count": null,
   "id": "6298059f",
   "metadata": {},
   "outputs": [],
   "source": []
  }
 ],
 "metadata": {
  "kernelspec": {
   "display_name": "Python 3",
   "language": "python",
   "name": "python3"
  },
  "language_info": {
   "codemirror_mode": {
    "name": "ipython",
    "version": 3
   },
   "file_extension": ".py",
   "mimetype": "text/x-python",
   "name": "python",
   "nbconvert_exporter": "python",
   "pygments_lexer": "ipython3",
   "version": "3.8.8"
  }
 },
 "nbformat": 4,
 "nbformat_minor": 5
}

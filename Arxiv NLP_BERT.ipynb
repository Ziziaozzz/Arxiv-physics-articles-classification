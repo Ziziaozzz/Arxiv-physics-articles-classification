{
 "cells": [
  {
   "cell_type": "code",
   "execution_count": 1,
   "id": "a5de5436",
   "metadata": {},
   "outputs": [],
   "source": [
    "import pandas as pd\n",
    "import numpy as np\n",
    "from pathlib import Path\n",
    "import matplotlib.pyplot as plt\n",
    "import torch\n",
    "\n",
    "pd.options.display.width = 180\n",
    "pd.options.display.max_colwidth = 120\n",
    "\n",
    "device = \"cuda\" if torch.cuda.is_available() else \"cpu\"\n",
    "data_dir = Path(r'C:\\Users\\Stille\\Desktop\\Arxiv NLP task')\n"
   ]
  },
  {
   "cell_type": "markdown",
   "id": "1532b774",
   "metadata": {},
   "source": [
    "# Text classification with Deep learning using BERT"
   ]
  },
  {
   "cell_type": "code",
   "execution_count": 2,
   "id": "1c81f472",
   "metadata": {},
   "outputs": [],
   "source": [
    "from tqdm.notebook import tqdm\n",
    "\n",
    "from transformers import BertTokenizer\n",
    "from torch.utils.data import TensorDataset\n",
    "\n",
    "from transformers import BertForSequenceClassification"
   ]
  },
  {
   "cell_type": "code",
   "execution_count": 3,
   "id": "4475b7b6",
   "metadata": {},
   "outputs": [],
   "source": [
    "df = pd.read_csv(data_dir/\"arxiv_update.csv\") # save excel as csv utf-8"
   ]
  },
  {
   "cell_type": "code",
   "execution_count": 4,
   "id": "ee071d5c",
   "metadata": {},
   "outputs": [
    {
     "data": {
      "text/html": [
       "<div>\n",
       "<style scoped>\n",
       "    .dataframe tbody tr th:only-of-type {\n",
       "        vertical-align: middle;\n",
       "    }\n",
       "\n",
       "    .dataframe tbody tr th {\n",
       "        vertical-align: top;\n",
       "    }\n",
       "\n",
       "    .dataframe thead th {\n",
       "        text-align: right;\n",
       "    }\n",
       "</style>\n",
       "<table border=\"1\" class=\"dataframe\">\n",
       "  <thead>\n",
       "    <tr style=\"text-align: right;\">\n",
       "      <th></th>\n",
       "      <th>title</th>\n",
       "      <th>abstract</th>\n",
       "      <th>categories</th>\n",
       "    </tr>\n",
       "  </thead>\n",
       "  <tbody>\n",
       "    <tr>\n",
       "      <th>0</th>\n",
       "      <td>New air fluorescence detectors employed in the\\nTelescope Array experiment\\n</td>\n",
       "      <td>Since 2007, the Telescope Array (TA) experiment, based in Utah, USA, has\\nbeen observing ultra high energy cosmic ra...</td>\n",
       "      <td>Astrophysics</td>\n",
       "    </tr>\n",
       "    <tr>\n",
       "      <th>1</th>\n",
       "      <td>THE RELATION BETWEEN EJECTA VELOCITY, INTRINSIC COLOR, AND HOST-GALAXY MASS FOR HIGH-REDSHIFT TYPE Ia SUPERNOVAE\\n</td>\n",
       "      <td>Recently, using a large low-redshift sample of Type Ia supernovae (SNe Ia), we discovered a relation\\nbetween SN Ia ...</td>\n",
       "      <td>Astrophysics</td>\n",
       "    </tr>\n",
       "    <tr>\n",
       "      <th>2</th>\n",
       "      <td>The JCMT Nearby Galaxies Legacy Survey. VII. Hα\\nimaging and massive star formation properties</td>\n",
       "      <td>We present Hα fluxes, star formation rates (SFRs) and equivalent widths (EWs) for\\na sample of 156 nearby galaxies o...</td>\n",
       "      <td>Astrophysics</td>\n",
       "    </tr>\n",
       "    <tr>\n",
       "      <th>3</th>\n",
       "      <td>The magnetic field of IRAS 16293-2422 as traced by shock-induced\\nH2O masers</td>\n",
       "      <td>Context. Shock-induced H2O masers are important magnetic field tracers at very high density gas. Water masers are fo...</td>\n",
       "      <td>Astrophysics</td>\n",
       "    </tr>\n",
       "    <tr>\n",
       "      <th>4</th>\n",
       "      <td>Scars of Intense Accretion Episodes at Metal-Rich White\\nDwarfs\\n</td>\n",
       "      <td>A re-evaluation of time-averaged accretion rates at DBZ-type white dwarfs points\\nto historical, time-averaged rates...</td>\n",
       "      <td>Astrophysics</td>\n",
       "    </tr>\n",
       "  </tbody>\n",
       "</table>\n",
       "</div>"
      ],
      "text/plain": [
       "                                                                                                                title  \\\n",
       "0                                        New air fluorescence detectors employed in the\\nTelescope Array experiment\\n   \n",
       "1  THE RELATION BETWEEN EJECTA VELOCITY, INTRINSIC COLOR, AND HOST-GALAXY MASS FOR HIGH-REDSHIFT TYPE Ia SUPERNOVAE\\n   \n",
       "2                      The JCMT Nearby Galaxies Legacy Survey. VII. Hα\\nimaging and massive star formation properties   \n",
       "3                                        The magnetic field of IRAS 16293-2422 as traced by shock-induced\\nH2O masers   \n",
       "4                                                   Scars of Intense Accretion Episodes at Metal-Rich White\\nDwarfs\\n   \n",
       "\n",
       "                                                                                                                  abstract    categories  \n",
       "0  Since 2007, the Telescope Array (TA) experiment, based in Utah, USA, has\\nbeen observing ultra high energy cosmic ra...  Astrophysics  \n",
       "1  Recently, using a large low-redshift sample of Type Ia supernovae (SNe Ia), we discovered a relation\\nbetween SN Ia ...  Astrophysics  \n",
       "2  We present Hα fluxes, star formation rates (SFRs) and equivalent widths (EWs) for\\na sample of 156 nearby galaxies o...  Astrophysics  \n",
       "3  Context. Shock-induced H2O masers are important magnetic field tracers at very high density gas. Water masers are fo...  Astrophysics  \n",
       "4  A re-evaluation of time-averaged accretion rates at DBZ-type white dwarfs points\\nto historical, time-averaged rates...  Astrophysics  "
      ]
     },
     "execution_count": 4,
     "metadata": {},
     "output_type": "execute_result"
    }
   ],
   "source": [
    "df.head()"
   ]
  },
  {
   "cell_type": "code",
   "execution_count": 5,
   "id": "636c8ba5",
   "metadata": {},
   "outputs": [],
   "source": [
    "col = ['title', 'abstract', 'categories']\n",
    "df = df[col]\n",
    "df.columns = ['title', 'abstract', 'categories']"
   ]
  },
  {
   "cell_type": "code",
   "execution_count": 6,
   "id": "ad4015ac",
   "metadata": {},
   "outputs": [
    {
     "data": {
      "text/html": [
       "<div>\n",
       "<style scoped>\n",
       "    .dataframe tbody tr th:only-of-type {\n",
       "        vertical-align: middle;\n",
       "    }\n",
       "\n",
       "    .dataframe tbody tr th {\n",
       "        vertical-align: top;\n",
       "    }\n",
       "\n",
       "    .dataframe thead th {\n",
       "        text-align: right;\n",
       "    }\n",
       "</style>\n",
       "<table border=\"1\" class=\"dataframe\">\n",
       "  <thead>\n",
       "    <tr style=\"text-align: right;\">\n",
       "      <th></th>\n",
       "      <th>title</th>\n",
       "      <th>abstract</th>\n",
       "      <th>categories</th>\n",
       "      <th>category_id</th>\n",
       "    </tr>\n",
       "  </thead>\n",
       "  <tbody>\n",
       "    <tr>\n",
       "      <th>0</th>\n",
       "      <td>New air fluorescence detectors employed in the\\nTelescope Array experiment\\n</td>\n",
       "      <td>Since 2007, the Telescope Array (TA) experiment, based in Utah, USA, has\\nbeen observing ultra high energy cosmic ra...</td>\n",
       "      <td>Astrophysics</td>\n",
       "      <td>0</td>\n",
       "    </tr>\n",
       "    <tr>\n",
       "      <th>1</th>\n",
       "      <td>THE RELATION BETWEEN EJECTA VELOCITY, INTRINSIC COLOR, AND HOST-GALAXY MASS FOR HIGH-REDSHIFT TYPE Ia SUPERNOVAE\\n</td>\n",
       "      <td>Recently, using a large low-redshift sample of Type Ia supernovae (SNe Ia), we discovered a relation\\nbetween SN Ia ...</td>\n",
       "      <td>Astrophysics</td>\n",
       "      <td>0</td>\n",
       "    </tr>\n",
       "    <tr>\n",
       "      <th>2</th>\n",
       "      <td>The JCMT Nearby Galaxies Legacy Survey. VII. Hα\\nimaging and massive star formation properties</td>\n",
       "      <td>We present Hα fluxes, star formation rates (SFRs) and equivalent widths (EWs) for\\na sample of 156 nearby galaxies o...</td>\n",
       "      <td>Astrophysics</td>\n",
       "      <td>0</td>\n",
       "    </tr>\n",
       "    <tr>\n",
       "      <th>3</th>\n",
       "      <td>The magnetic field of IRAS 16293-2422 as traced by shock-induced\\nH2O masers</td>\n",
       "      <td>Context. Shock-induced H2O masers are important magnetic field tracers at very high density gas. Water masers are fo...</td>\n",
       "      <td>Astrophysics</td>\n",
       "      <td>0</td>\n",
       "    </tr>\n",
       "    <tr>\n",
       "      <th>4</th>\n",
       "      <td>Scars of Intense Accretion Episodes at Metal-Rich White\\nDwarfs\\n</td>\n",
       "      <td>A re-evaluation of time-averaged accretion rates at DBZ-type white dwarfs points\\nto historical, time-averaged rates...</td>\n",
       "      <td>Astrophysics</td>\n",
       "      <td>0</td>\n",
       "    </tr>\n",
       "    <tr>\n",
       "      <th>5</th>\n",
       "      <td>DUST EXTINCTION BIAS IN THE COLUMN DENSITY DISTRIBUTION OF GAMMA-RAY BURSTS; HIGH COLUMN\\nDENSITY, LOW REDSHIFT GRBS...</td>\n",
       "      <td>The afterglows of gamma-ray bursts (GRBs) have more soft X-ray absorption than expected from the foreground gas colu...</td>\n",
       "      <td>Astrophysics</td>\n",
       "      <td>0</td>\n",
       "    </tr>\n",
       "    <tr>\n",
       "      <th>6</th>\n",
       "      <td>THE ZCOSMOS1 20K GROUP CATALOG\\n</td>\n",
       "      <td>We present an optical group catalog between 0.1 . z . 1 based on 16,500 high-quality spectroscopic\\nredshifts in the...</td>\n",
       "      <td>Astrophysics</td>\n",
       "      <td>0</td>\n",
       "    </tr>\n",
       "    <tr>\n",
       "      <th>7</th>\n",
       "      <td>Making Galaxies in a Cosmological Context: The Need for\\nEarly Stellar Feedback</td>\n",
       "      <td>We introduce the Making Galaxies in a Cosmological Context (MaGICC) program\\nof smoothed particle hydrodynamics (SPH...</td>\n",
       "      <td>Astrophysics</td>\n",
       "      <td>0</td>\n",
       "    </tr>\n",
       "    <tr>\n",
       "      <th>8</th>\n",
       "      <td>THE TEMPERATURE-DENSITY RELATION IN THE INTERGALACTIC MEDIUM AT REDSHIFT hZi = 2.4</td>\n",
       "      <td>We present new measurements of the temperature-density (T − ρ) relation for neutral hydrogen\\nin the 2.0 &lt; z &lt; 2.8 i...</td>\n",
       "      <td>Astrophysics</td>\n",
       "      <td>0</td>\n",
       "    </tr>\n",
       "    <tr>\n",
       "      <th>9</th>\n",
       "      <td>Dipole leakage and low CMB multipoles</td>\n",
       "      <td>A number of studies of WMAP-7 have highlighted that the power at the low\\nmultipoles in CMB power spectrum are lower...</td>\n",
       "      <td>Astrophysics</td>\n",
       "      <td>0</td>\n",
       "    </tr>\n",
       "    <tr>\n",
       "      <th>10</th>\n",
       "      <td>Extragalactic number counts at 100 µm, free from cosmic variance</td>\n",
       "      <td>We use data from the DEBRIS survey, taken at 100 µm with the PACS instrument on board\\nthe Herschel Space Observator...</td>\n",
       "      <td>Astrophysics</td>\n",
       "      <td>0</td>\n",
       "    </tr>\n",
       "    <tr>\n",
       "      <th>11</th>\n",
       "      <td>Very deep spectroscopy of the bright Saturn Nebula NGC 7009 – II. Analysis of the rich optical recombination spectrum</td>\n",
       "      <td>In Paper I, we presented deep, long-slit spectrum of the bright Saturn nebula NGC 7009.\\nNumerous permitted lines em...</td>\n",
       "      <td>Astrophysics</td>\n",
       "      <td>0</td>\n",
       "    </tr>\n",
       "    <tr>\n",
       "      <th>12</th>\n",
       "      <td>Ferromagnetism in ZnO co-doped with Mn and N\\nstudied by soft x-ray magnetic circular dichroism</td>\n",
       "      <td>We have investigated the electronic structure of ZnO:Mn and ZnO:Mn,N\\nthin films using x-ray magnetic circular dichr...</td>\n",
       "      <td>Condensed Matter</td>\n",
       "      <td>1</td>\n",
       "    </tr>\n",
       "    <tr>\n",
       "      <th>13</th>\n",
       "      <td>Density functional theory studies of interactions of graphene with its environment: substrate, gate dielectric and e...</td>\n",
       "      <td>This paper reviews the theoretical work undertaken using density functional theory (DFT) to explore graphene’s inter...</td>\n",
       "      <td>Condensed Matter</td>\n",
       "      <td>1</td>\n",
       "    </tr>\n",
       "    <tr>\n",
       "      <th>14</th>\n",
       "      <td>Spinful Composite Fermions in a Negative Effective Field</td>\n",
       "      <td>In this paper, we study fractional quantum Hall composite fermion wavefunctions at filling fractions ν = 2/3, 3/5, a...</td>\n",
       "      <td>Condensed Matter</td>\n",
       "      <td>1</td>\n",
       "    </tr>\n",
       "    <tr>\n",
       "      <th>15</th>\n",
       "      <td>Low-energy local density of states of the 1D Hubbard model</td>\n",
       "      <td>We examine the local density of states (DOS) at low energies numerically and analytically for the\\nHubbard model in ...</td>\n",
       "      <td>Condensed Matter</td>\n",
       "      <td>1</td>\n",
       "    </tr>\n",
       "    <tr>\n",
       "      <th>16</th>\n",
       "      <td>Instanton Calculus of Lifshitz Tails</td>\n",
       "      <td>For noninteracting particles moving in a Gaussian random potential, there exists a disagreement\\nin the literature o...</td>\n",
       "      <td>Condensed Matter</td>\n",
       "      <td>1</td>\n",
       "    </tr>\n",
       "    <tr>\n",
       "      <th>17</th>\n",
       "      <td>Short-Range Correlations and Cooling of Ultracold Fermions\\nin the Honeycomb Lattice\\n</td>\n",
       "      <td>We use determinantal quantum Monte Carlo simulations and numerical linked-cluster expansions\\nto study thermodynamic...</td>\n",
       "      <td>Condensed Matter</td>\n",
       "      <td>1</td>\n",
       "    </tr>\n",
       "    <tr>\n",
       "      <th>18</th>\n",
       "      <td>The Study of Goldstone Modes in ν=2 Bilayer Quantum Hall\\nSystems</td>\n",
       "      <td>At the filling factor ν=2, the bilayer quantum Hall system has three phases, the spin-ferromagnet\\nphase, the spin s...</td>\n",
       "      <td>Condensed Matter</td>\n",
       "      <td>1</td>\n",
       "    </tr>\n",
       "    <tr>\n",
       "      <th>19</th>\n",
       "      <td>Surface Acoustic Wave-Driven Ferromagnetic Resonance in Nickel Thin Films: Theory and Experiment</td>\n",
       "      <td>We present an extensive experimental and theoretical study of surface acoustic wave-driven ferromagnetic resonance. ...</td>\n",
       "      <td>Condensed Matter</td>\n",
       "      <td>1</td>\n",
       "    </tr>\n",
       "  </tbody>\n",
       "</table>\n",
       "</div>"
      ],
      "text/plain": [
       "                                                                                                                      title  \\\n",
       "0                                              New air fluorescence detectors employed in the\\nTelescope Array experiment\\n   \n",
       "1        THE RELATION BETWEEN EJECTA VELOCITY, INTRINSIC COLOR, AND HOST-GALAXY MASS FOR HIGH-REDSHIFT TYPE Ia SUPERNOVAE\\n   \n",
       "2                            The JCMT Nearby Galaxies Legacy Survey. VII. Hα\\nimaging and massive star formation properties   \n",
       "3                                              The magnetic field of IRAS 16293-2422 as traced by shock-induced\\nH2O masers   \n",
       "4                                                         Scars of Intense Accretion Episodes at Metal-Rich White\\nDwarfs\\n   \n",
       "5   DUST EXTINCTION BIAS IN THE COLUMN DENSITY DISTRIBUTION OF GAMMA-RAY BURSTS; HIGH COLUMN\\nDENSITY, LOW REDSHIFT GRBS...   \n",
       "6                                                                                          THE ZCOSMOS1 20K GROUP CATALOG\\n   \n",
       "7                                           Making Galaxies in a Cosmological Context: The Need for\\nEarly Stellar Feedback   \n",
       "8                                        THE TEMPERATURE-DENSITY RELATION IN THE INTERGALACTIC MEDIUM AT REDSHIFT hZi = 2.4   \n",
       "9                                                                                     Dipole leakage and low CMB multipoles   \n",
       "10                                                         Extragalactic number counts at 100 µm, free from cosmic variance   \n",
       "11    Very deep spectroscopy of the bright Saturn Nebula NGC 7009 – II. Analysis of the rich optical recombination spectrum   \n",
       "12                          Ferromagnetism in ZnO co-doped with Mn and N\\nstudied by soft x-ray magnetic circular dichroism   \n",
       "13  Density functional theory studies of interactions of graphene with its environment: substrate, gate dielectric and e...   \n",
       "14                                                                 Spinful Composite Fermions in a Negative Effective Field   \n",
       "15                                                               Low-energy local density of states of the 1D Hubbard model   \n",
       "16                                                                                     Instanton Calculus of Lifshitz Tails   \n",
       "17                                   Short-Range Correlations and Cooling of Ultracold Fermions\\nin the Honeycomb Lattice\\n   \n",
       "18                                                        The Study of Goldstone Modes in ν=2 Bilayer Quantum Hall\\nSystems   \n",
       "19                         Surface Acoustic Wave-Driven Ferromagnetic Resonance in Nickel Thin Films: Theory and Experiment   \n",
       "\n",
       "                                                                                                                   abstract        categories  category_id  \n",
       "0   Since 2007, the Telescope Array (TA) experiment, based in Utah, USA, has\\nbeen observing ultra high energy cosmic ra...      Astrophysics            0  \n",
       "1   Recently, using a large low-redshift sample of Type Ia supernovae (SNe Ia), we discovered a relation\\nbetween SN Ia ...      Astrophysics            0  \n",
       "2   We present Hα fluxes, star formation rates (SFRs) and equivalent widths (EWs) for\\na sample of 156 nearby galaxies o...      Astrophysics            0  \n",
       "3   Context. Shock-induced H2O masers are important magnetic field tracers at very high density gas. Water masers are fo...      Astrophysics            0  \n",
       "4   A re-evaluation of time-averaged accretion rates at DBZ-type white dwarfs points\\nto historical, time-averaged rates...      Astrophysics            0  \n",
       "5   The afterglows of gamma-ray bursts (GRBs) have more soft X-ray absorption than expected from the foreground gas colu...      Astrophysics            0  \n",
       "6   We present an optical group catalog between 0.1 . z . 1 based on 16,500 high-quality spectroscopic\\nredshifts in the...      Astrophysics            0  \n",
       "7   We introduce the Making Galaxies in a Cosmological Context (MaGICC) program\\nof smoothed particle hydrodynamics (SPH...      Astrophysics            0  \n",
       "8   We present new measurements of the temperature-density (T − ρ) relation for neutral hydrogen\\nin the 2.0 < z < 2.8 i...      Astrophysics            0  \n",
       "9   A number of studies of WMAP-7 have highlighted that the power at the low\\nmultipoles in CMB power spectrum are lower...      Astrophysics            0  \n",
       "10  We use data from the DEBRIS survey, taken at 100 µm with the PACS instrument on board\\nthe Herschel Space Observator...      Astrophysics            0  \n",
       "11  In Paper I, we presented deep, long-slit spectrum of the bright Saturn nebula NGC 7009.\\nNumerous permitted lines em...      Astrophysics            0  \n",
       "12  We have investigated the electronic structure of ZnO:Mn and ZnO:Mn,N\\nthin films using x-ray magnetic circular dichr...  Condensed Matter            1  \n",
       "13  This paper reviews the theoretical work undertaken using density functional theory (DFT) to explore graphene’s inter...  Condensed Matter            1  \n",
       "14  In this paper, we study fractional quantum Hall composite fermion wavefunctions at filling fractions ν = 2/3, 3/5, a...  Condensed Matter            1  \n",
       "15  We examine the local density of states (DOS) at low energies numerically and analytically for the\\nHubbard model in ...  Condensed Matter            1  \n",
       "16  For noninteracting particles moving in a Gaussian random potential, there exists a disagreement\\nin the literature o...  Condensed Matter            1  \n",
       "17  We use determinantal quantum Monte Carlo simulations and numerical linked-cluster expansions\\nto study thermodynamic...  Condensed Matter            1  \n",
       "18  At the filling factor ν=2, the bilayer quantum Hall system has three phases, the spin-ferromagnet\\nphase, the spin s...  Condensed Matter            1  \n",
       "19  We present an extensive experimental and theoretical study of surface acoustic wave-driven ferromagnetic resonance. ...  Condensed Matter            1  "
      ]
     },
     "execution_count": 6,
     "metadata": {},
     "output_type": "execute_result"
    }
   ],
   "source": [
    "# Set numerical values for each category\n",
    "df['category_id'] = df['categories'].factorize()[0]\n",
    "df.head(20)"
   ]
  },
  {
   "cell_type": "code",
   "execution_count": 7,
   "id": "e0ac6d0e",
   "metadata": {},
   "outputs": [
    {
     "data": {
      "text/html": [
       "<div>\n",
       "<style scoped>\n",
       "    .dataframe tbody tr th:only-of-type {\n",
       "        vertical-align: middle;\n",
       "    }\n",
       "\n",
       "    .dataframe tbody tr th {\n",
       "        vertical-align: top;\n",
       "    }\n",
       "\n",
       "    .dataframe thead th {\n",
       "        text-align: right;\n",
       "    }\n",
       "</style>\n",
       "<table border=\"1\" class=\"dataframe\">\n",
       "  <thead>\n",
       "    <tr style=\"text-align: right;\">\n",
       "      <th></th>\n",
       "      <th>title</th>\n",
       "      <th>abstract</th>\n",
       "      <th>categories</th>\n",
       "      <th>category_id</th>\n",
       "    </tr>\n",
       "  </thead>\n",
       "  <tbody>\n",
       "    <tr>\n",
       "      <th>0</th>\n",
       "      <td>New air fluorescence detectors employed in the Telescope Array experiment</td>\n",
       "      <td>Since 2007, the Telescope Array (TA) experiment, based in Utah, USA, has been observing ultra high energy cosmic ray...</td>\n",
       "      <td>Astrophysics</td>\n",
       "      <td>0</td>\n",
       "    </tr>\n",
       "    <tr>\n",
       "      <th>1</th>\n",
       "      <td>THE RELATION BETWEEN EJECTA VELOCITY, INTRINSIC COLOR, AND HOST-GALAXY MASS FOR HIGH-REDSHIFT TYPE Ia SUPERNOVAE</td>\n",
       "      <td>Recently, using a large low-redshift sample of Type Ia supernovae (SNe Ia), we discovered a relation between SN Ia e...</td>\n",
       "      <td>Astrophysics</td>\n",
       "      <td>0</td>\n",
       "    </tr>\n",
       "    <tr>\n",
       "      <th>2</th>\n",
       "      <td>The JCMT Nearby Galaxies Legacy Survey. VII. Hα imaging and massive star formation properties</td>\n",
       "      <td>We present Hα fluxes, star formation rates (SFRs) and equivalent widths (EWs) for a sample of 156 nearby galaxies ob...</td>\n",
       "      <td>Astrophysics</td>\n",
       "      <td>0</td>\n",
       "    </tr>\n",
       "    <tr>\n",
       "      <th>3</th>\n",
       "      <td>The magnetic field of IRAS 16293-2422 as traced by shock-induced H2O masers</td>\n",
       "      <td>Context. Shock-induced H2O masers are important magnetic field tracers at very high density gas. Water masers are fo...</td>\n",
       "      <td>Astrophysics</td>\n",
       "      <td>0</td>\n",
       "    </tr>\n",
       "    <tr>\n",
       "      <th>4</th>\n",
       "      <td>Scars of Intense Accretion Episodes at Metal-Rich White Dwarfs</td>\n",
       "      <td>A re-evaluation of time-averaged accretion rates at DBZ-type white dwarfs points to historical, time-averaged rates ...</td>\n",
       "      <td>Astrophysics</td>\n",
       "      <td>0</td>\n",
       "    </tr>\n",
       "    <tr>\n",
       "      <th>...</th>\n",
       "      <td>...</td>\n",
       "      <td>...</td>\n",
       "      <td>...</td>\n",
       "      <td>...</td>\n",
       "    </tr>\n",
       "    <tr>\n",
       "      <th>163</th>\n",
       "      <td>Probing Nuclear Matter With Jets and γ-Hadron Correlations: Results from PHENIX</td>\n",
       "      <td>Fully reconstructed jets and direct photon-tagged jet fragments significantly reduce energy-loss bias, the bias towa...</td>\n",
       "      <td>Nuclear Experiment</td>\n",
       "      <td>6</td>\n",
       "    </tr>\n",
       "    <tr>\n",
       "      <th>164</th>\n",
       "      <td>The light nuclei spin structure from hadronic channels at intermediate energies</td>\n",
       "      <td>The investigation of the d, 3H and 3He spin structure has been performed at the RIKEN(Japan) accelerator research fa...</td>\n",
       "      <td>Nuclear Experiment</td>\n",
       "      <td>6</td>\n",
       "    </tr>\n",
       "    <tr>\n",
       "      <th>165</th>\n",
       "      <td>Particle-yield modification in jet-like azimuthal di-hadron correlations in Pb–Pb collisions at √sNN = 2 .76TeV</td>\n",
       "      <td>The yield of charged particles associated with highp t trigger particles (8 &lt; p t &lt; 15GeV / c) is measured with the ...</td>\n",
       "      <td>Nuclear Experiment</td>\n",
       "      <td>6</td>\n",
       "    </tr>\n",
       "    <tr>\n",
       "      <th>166</th>\n",
       "      <td>Experimental study of α-induced reactions on 64Zn for the astrophysical γ-process</td>\n",
       "      <td>For the synthesis of the heavy, proton rich isotopes in the astrophysical γ-process the precise knowledge of α-induc...</td>\n",
       "      <td>Nuclear Experiment</td>\n",
       "      <td>6</td>\n",
       "    </tr>\n",
       "    <tr>\n",
       "      <th>167</th>\n",
       "      <td>Measurement of Giant Dipole Resonance width at low temperature: A new experimental perspective</td>\n",
       "      <td>The systematic evolution of the giant dipole resonance (GDR) width in the temperature region of 0.9 ∼ 1.4 MeV has be...</td>\n",
       "      <td>Nuclear Experiment</td>\n",
       "      <td>6</td>\n",
       "    </tr>\n",
       "  </tbody>\n",
       "</table>\n",
       "<p>168 rows × 4 columns</p>\n",
       "</div>"
      ],
      "text/plain": [
       "                                                                                                                 title  \\\n",
       "0                                           New air fluorescence detectors employed in the Telescope Array experiment    \n",
       "1    THE RELATION BETWEEN EJECTA VELOCITY, INTRINSIC COLOR, AND HOST-GALAXY MASS FOR HIGH-REDSHIFT TYPE Ia SUPERNOVAE    \n",
       "2                        The JCMT Nearby Galaxies Legacy Survey. VII. Hα imaging and massive star formation properties   \n",
       "3                                          The magnetic field of IRAS 16293-2422 as traced by shock-induced H2O masers   \n",
       "4                                                      Scars of Intense Accretion Episodes at Metal-Rich White Dwarfs    \n",
       "..                                                                                                                 ...   \n",
       "163                                    Probing Nuclear Matter With Jets and γ-Hadron Correlations: Results from PHENIX   \n",
       "164                                    The light nuclei spin structure from hadronic channels at intermediate energies   \n",
       "165    Particle-yield modification in jet-like azimuthal di-hadron correlations in Pb–Pb collisions at √sNN = 2 .76TeV   \n",
       "166                                 Experimental study of α-induced reactions on 64Zn for the astrophysical γ-process    \n",
       "167                     Measurement of Giant Dipole Resonance width at low temperature: A new experimental perspective   \n",
       "\n",
       "                                                                                                                    abstract          categories  category_id  \n",
       "0    Since 2007, the Telescope Array (TA) experiment, based in Utah, USA, has been observing ultra high energy cosmic ray...        Astrophysics            0  \n",
       "1    Recently, using a large low-redshift sample of Type Ia supernovae (SNe Ia), we discovered a relation between SN Ia e...        Astrophysics            0  \n",
       "2    We present Hα fluxes, star formation rates (SFRs) and equivalent widths (EWs) for a sample of 156 nearby galaxies ob...        Astrophysics            0  \n",
       "3    Context. Shock-induced H2O masers are important magnetic field tracers at very high density gas. Water masers are fo...        Astrophysics            0  \n",
       "4    A re-evaluation of time-averaged accretion rates at DBZ-type white dwarfs points to historical, time-averaged rates ...        Astrophysics            0  \n",
       "..                                                                                                                       ...                 ...          ...  \n",
       "163  Fully reconstructed jets and direct photon-tagged jet fragments significantly reduce energy-loss bias, the bias towa...  Nuclear Experiment            6  \n",
       "164  The investigation of the d, 3H and 3He spin structure has been performed at the RIKEN(Japan) accelerator research fa...  Nuclear Experiment            6  \n",
       "165  The yield of charged particles associated with highp t trigger particles (8 < p t < 15GeV / c) is measured with the ...  Nuclear Experiment            6  \n",
       "166  For the synthesis of the heavy, proton rich isotopes in the astrophysical γ-process the precise knowledge of α-induc...  Nuclear Experiment            6  \n",
       "167  The systematic evolution of the giant dipole resonance (GDR) width in the temperature region of 0.9 ∼ 1.4 MeV has be...  Nuclear Experiment            6  \n",
       "\n",
       "[168 rows x 4 columns]"
      ]
     },
     "execution_count": 7,
     "metadata": {},
     "output_type": "execute_result"
    }
   ],
   "source": [
    "# text cleaning\n",
    "df.replace(to_replace=[r\"\\\\t|\\\\n|\\\\r\", \"\\t|\\n|\\r\"], value=[\" \",\" \"], regex=True)"
   ]
  },
  {
   "cell_type": "markdown",
   "id": "b237495c",
   "metadata": {},
   "source": [
    "## Step 1. Data exploration and preprocess"
   ]
  },
  {
   "cell_type": "code",
   "execution_count": 8,
   "id": "dd08af35",
   "metadata": {},
   "outputs": [
    {
     "data": {
      "text/plain": [
       "Nuclear Experiment                          24\n",
       "Mathematical Physics                        24\n",
       "General Relativity and Quantum Cosmology    24\n",
       "Quantum Physics                             24\n",
       "High Energy Physics                         24\n",
       "Condensed Matter                            24\n",
       "Astrophysics                                24\n",
       "Name: categories, dtype: int64"
      ]
     },
     "execution_count": 8,
     "metadata": {},
     "output_type": "execute_result"
    }
   ],
   "source": [
    "df['categories'].value_counts()"
   ]
  },
  {
   "cell_type": "code",
   "execution_count": 9,
   "id": "d796fb45",
   "metadata": {},
   "outputs": [
    {
     "data": {
      "text/plain": [
       "{'Astrophysics': 0,\n",
       " 'Condensed Matter': 1,\n",
       " 'General Relativity and Quantum Cosmology': 2,\n",
       " 'High Energy Physics': 3,\n",
       " 'Mathematical Physics': 4,\n",
       " 'Quantum Physics': 5,\n",
       " 'Nuclear Experiment': 6}"
      ]
     },
     "execution_count": 9,
     "metadata": {},
     "output_type": "execute_result"
    }
   ],
   "source": [
    "possible_labels = df.categories.unique()\n",
    "\n",
    "label_dict = {}\n",
    "for index, possible_label in enumerate(possible_labels):\n",
    "    label_dict[possible_label] = index\n",
    "label_dict"
   ]
  },
  {
   "cell_type": "code",
   "execution_count": 10,
   "id": "089daf25",
   "metadata": {},
   "outputs": [],
   "source": [
    "df['label'] = df.categories.replace(label_dict)"
   ]
  },
  {
   "cell_type": "code",
   "execution_count": 11,
   "id": "957f3d47",
   "metadata": {},
   "outputs": [
    {
     "data": {
      "text/html": [
       "<div>\n",
       "<style scoped>\n",
       "    .dataframe tbody tr th:only-of-type {\n",
       "        vertical-align: middle;\n",
       "    }\n",
       "\n",
       "    .dataframe tbody tr th {\n",
       "        vertical-align: top;\n",
       "    }\n",
       "\n",
       "    .dataframe thead th {\n",
       "        text-align: right;\n",
       "    }\n",
       "</style>\n",
       "<table border=\"1\" class=\"dataframe\">\n",
       "  <thead>\n",
       "    <tr style=\"text-align: right;\">\n",
       "      <th></th>\n",
       "      <th>title</th>\n",
       "      <th>abstract</th>\n",
       "      <th>categories</th>\n",
       "      <th>category_id</th>\n",
       "      <th>label</th>\n",
       "    </tr>\n",
       "  </thead>\n",
       "  <tbody>\n",
       "    <tr>\n",
       "      <th>0</th>\n",
       "      <td>New air fluorescence detectors employed in the\\nTelescope Array experiment\\n</td>\n",
       "      <td>Since 2007, the Telescope Array (TA) experiment, based in Utah, USA, has\\nbeen observing ultra high energy cosmic ra...</td>\n",
       "      <td>Astrophysics</td>\n",
       "      <td>0</td>\n",
       "      <td>0</td>\n",
       "    </tr>\n",
       "    <tr>\n",
       "      <th>1</th>\n",
       "      <td>THE RELATION BETWEEN EJECTA VELOCITY, INTRINSIC COLOR, AND HOST-GALAXY MASS FOR HIGH-REDSHIFT TYPE Ia SUPERNOVAE\\n</td>\n",
       "      <td>Recently, using a large low-redshift sample of Type Ia supernovae (SNe Ia), we discovered a relation\\nbetween SN Ia ...</td>\n",
       "      <td>Astrophysics</td>\n",
       "      <td>0</td>\n",
       "      <td>0</td>\n",
       "    </tr>\n",
       "    <tr>\n",
       "      <th>2</th>\n",
       "      <td>The JCMT Nearby Galaxies Legacy Survey. VII. Hα\\nimaging and massive star formation properties</td>\n",
       "      <td>We present Hα fluxes, star formation rates (SFRs) and equivalent widths (EWs) for\\na sample of 156 nearby galaxies o...</td>\n",
       "      <td>Astrophysics</td>\n",
       "      <td>0</td>\n",
       "      <td>0</td>\n",
       "    </tr>\n",
       "    <tr>\n",
       "      <th>3</th>\n",
       "      <td>The magnetic field of IRAS 16293-2422 as traced by shock-induced\\nH2O masers</td>\n",
       "      <td>Context. Shock-induced H2O masers are important magnetic field tracers at very high density gas. Water masers are fo...</td>\n",
       "      <td>Astrophysics</td>\n",
       "      <td>0</td>\n",
       "      <td>0</td>\n",
       "    </tr>\n",
       "    <tr>\n",
       "      <th>4</th>\n",
       "      <td>Scars of Intense Accretion Episodes at Metal-Rich White\\nDwarfs\\n</td>\n",
       "      <td>A re-evaluation of time-averaged accretion rates at DBZ-type white dwarfs points\\nto historical, time-averaged rates...</td>\n",
       "      <td>Astrophysics</td>\n",
       "      <td>0</td>\n",
       "      <td>0</td>\n",
       "    </tr>\n",
       "    <tr>\n",
       "      <th>...</th>\n",
       "      <td>...</td>\n",
       "      <td>...</td>\n",
       "      <td>...</td>\n",
       "      <td>...</td>\n",
       "      <td>...</td>\n",
       "    </tr>\n",
       "    <tr>\n",
       "      <th>163</th>\n",
       "      <td>Probing Nuclear Matter With Jets and γ-Hadron\\nCorrelations: Results from PHENIX</td>\n",
       "      <td>Fully reconstructed jets and direct photon-tagged jet fragments\\nsignificantly reduce energy-loss bias, the bias tow...</td>\n",
       "      <td>Nuclear Experiment</td>\n",
       "      <td>6</td>\n",
       "      <td>6</td>\n",
       "    </tr>\n",
       "    <tr>\n",
       "      <th>164</th>\n",
       "      <td>The light nuclei spin structure from hadronic\\nchannels at intermediate energies</td>\n",
       "      <td>The investigation of the d, 3H and 3He spin structure has been performed at the RIKEN(Japan)\\naccelerator research f...</td>\n",
       "      <td>Nuclear Experiment</td>\n",
       "      <td>6</td>\n",
       "      <td>6</td>\n",
       "    </tr>\n",
       "    <tr>\n",
       "      <th>165</th>\n",
       "      <td>Particle-yield modification in jet-like azimuthal di-hadron correlations in\\nPb–Pb collisions at\\n√sNN\\n=\\n2\\n.76TeV</td>\n",
       "      <td>The yield of charged particles associated with highp\\nt\\ntrigger particles (8\\n&lt;\\np\\nt\\n&lt; 15GeV\\n/\\nc) is measured w...</td>\n",
       "      <td>Nuclear Experiment</td>\n",
       "      <td>6</td>\n",
       "      <td>6</td>\n",
       "    </tr>\n",
       "    <tr>\n",
       "      <th>166</th>\n",
       "      <td>Experimental study of α-induced reactions on 64Zn\\nfor the astrophysical γ-process\\n</td>\n",
       "      <td>For the synthesis of the heavy, proton rich isotopes in the astrophysical γ-process the precise\\nknowledge of α-indu...</td>\n",
       "      <td>Nuclear Experiment</td>\n",
       "      <td>6</td>\n",
       "      <td>6</td>\n",
       "    </tr>\n",
       "    <tr>\n",
       "      <th>167</th>\n",
       "      <td>Measurement of Giant Dipole Resonance width at low temperature: A\\nnew experimental perspective</td>\n",
       "      <td>The systematic evolution of the giant dipole resonance (GDR) width in the temperature region of 0.9 ∼ 1.4 MeV has\\nb...</td>\n",
       "      <td>Nuclear Experiment</td>\n",
       "      <td>6</td>\n",
       "      <td>6</td>\n",
       "    </tr>\n",
       "  </tbody>\n",
       "</table>\n",
       "<p>168 rows × 5 columns</p>\n",
       "</div>"
      ],
      "text/plain": [
       "                                                                                                                    title  \\\n",
       "0                                            New air fluorescence detectors employed in the\\nTelescope Array experiment\\n   \n",
       "1      THE RELATION BETWEEN EJECTA VELOCITY, INTRINSIC COLOR, AND HOST-GALAXY MASS FOR HIGH-REDSHIFT TYPE Ia SUPERNOVAE\\n   \n",
       "2                          The JCMT Nearby Galaxies Legacy Survey. VII. Hα\\nimaging and massive star formation properties   \n",
       "3                                            The magnetic field of IRAS 16293-2422 as traced by shock-induced\\nH2O masers   \n",
       "4                                                       Scars of Intense Accretion Episodes at Metal-Rich White\\nDwarfs\\n   \n",
       "..                                                                                                                    ...   \n",
       "163                                      Probing Nuclear Matter With Jets and γ-Hadron\\nCorrelations: Results from PHENIX   \n",
       "164                                      The light nuclei spin structure from hadronic\\nchannels at intermediate energies   \n",
       "165  Particle-yield modification in jet-like azimuthal di-hadron correlations in\\nPb–Pb collisions at\\n√sNN\\n=\\n2\\n.76TeV   \n",
       "166                                  Experimental study of α-induced reactions on 64Zn\\nfor the astrophysical γ-process\\n   \n",
       "167                       Measurement of Giant Dipole Resonance width at low temperature: A\\nnew experimental perspective   \n",
       "\n",
       "                                                                                                                    abstract          categories  category_id  label  \n",
       "0    Since 2007, the Telescope Array (TA) experiment, based in Utah, USA, has\\nbeen observing ultra high energy cosmic ra...        Astrophysics            0      0  \n",
       "1    Recently, using a large low-redshift sample of Type Ia supernovae (SNe Ia), we discovered a relation\\nbetween SN Ia ...        Astrophysics            0      0  \n",
       "2    We present Hα fluxes, star formation rates (SFRs) and equivalent widths (EWs) for\\na sample of 156 nearby galaxies o...        Astrophysics            0      0  \n",
       "3    Context. Shock-induced H2O masers are important magnetic field tracers at very high density gas. Water masers are fo...        Astrophysics            0      0  \n",
       "4    A re-evaluation of time-averaged accretion rates at DBZ-type white dwarfs points\\nto historical, time-averaged rates...        Astrophysics            0      0  \n",
       "..                                                                                                                       ...                 ...          ...    ...  \n",
       "163  Fully reconstructed jets and direct photon-tagged jet fragments\\nsignificantly reduce energy-loss bias, the bias tow...  Nuclear Experiment            6      6  \n",
       "164  The investigation of the d, 3H and 3He spin structure has been performed at the RIKEN(Japan)\\naccelerator research f...  Nuclear Experiment            6      6  \n",
       "165  The yield of charged particles associated with highp\\nt\\ntrigger particles (8\\n<\\np\\nt\\n< 15GeV\\n/\\nc) is measured w...  Nuclear Experiment            6      6  \n",
       "166  For the synthesis of the heavy, proton rich isotopes in the astrophysical γ-process the precise\\nknowledge of α-indu...  Nuclear Experiment            6      6  \n",
       "167  The systematic evolution of the giant dipole resonance (GDR) width in the temperature region of 0.9 ∼ 1.4 MeV has\\nb...  Nuclear Experiment            6      6  \n",
       "\n",
       "[168 rows x 5 columns]"
      ]
     },
     "execution_count": 11,
     "metadata": {},
     "output_type": "execute_result"
    }
   ],
   "source": [
    "df"
   ]
  },
  {
   "cell_type": "code",
   "execution_count": 12,
   "id": "d6666d50",
   "metadata": {},
   "outputs": [
    {
     "data": {
      "text/html": [
       "<div>\n",
       "<style scoped>\n",
       "    .dataframe tbody tr th:only-of-type {\n",
       "        vertical-align: middle;\n",
       "    }\n",
       "\n",
       "    .dataframe tbody tr th {\n",
       "        vertical-align: top;\n",
       "    }\n",
       "\n",
       "    .dataframe thead th {\n",
       "        text-align: right;\n",
       "    }\n",
       "</style>\n",
       "<table border=\"1\" class=\"dataframe\">\n",
       "  <thead>\n",
       "    <tr style=\"text-align: right;\">\n",
       "      <th></th>\n",
       "      <th></th>\n",
       "      <th></th>\n",
       "      <th>title</th>\n",
       "      <th>abstract</th>\n",
       "      <th>category_id</th>\n",
       "    </tr>\n",
       "    <tr>\n",
       "      <th>categories</th>\n",
       "      <th>label</th>\n",
       "      <th>data_type</th>\n",
       "      <th></th>\n",
       "      <th></th>\n",
       "      <th></th>\n",
       "    </tr>\n",
       "  </thead>\n",
       "  <tbody>\n",
       "    <tr>\n",
       "      <th rowspan=\"2\" valign=\"top\">Astrophysics</th>\n",
       "      <th rowspan=\"2\" valign=\"top\">0</th>\n",
       "      <th>train</th>\n",
       "      <td>20</td>\n",
       "      <td>20</td>\n",
       "      <td>20</td>\n",
       "    </tr>\n",
       "    <tr>\n",
       "      <th>val</th>\n",
       "      <td>4</td>\n",
       "      <td>4</td>\n",
       "      <td>4</td>\n",
       "    </tr>\n",
       "    <tr>\n",
       "      <th rowspan=\"2\" valign=\"top\">Condensed Matter</th>\n",
       "      <th rowspan=\"2\" valign=\"top\">1</th>\n",
       "      <th>train</th>\n",
       "      <td>19</td>\n",
       "      <td>19</td>\n",
       "      <td>19</td>\n",
       "    </tr>\n",
       "    <tr>\n",
       "      <th>val</th>\n",
       "      <td>5</td>\n",
       "      <td>5</td>\n",
       "      <td>5</td>\n",
       "    </tr>\n",
       "    <tr>\n",
       "      <th rowspan=\"2\" valign=\"top\">General Relativity and Quantum Cosmology</th>\n",
       "      <th rowspan=\"2\" valign=\"top\">2</th>\n",
       "      <th>train</th>\n",
       "      <td>19</td>\n",
       "      <td>19</td>\n",
       "      <td>19</td>\n",
       "    </tr>\n",
       "    <tr>\n",
       "      <th>val</th>\n",
       "      <td>5</td>\n",
       "      <td>5</td>\n",
       "      <td>5</td>\n",
       "    </tr>\n",
       "    <tr>\n",
       "      <th rowspan=\"2\" valign=\"top\">High Energy Physics</th>\n",
       "      <th rowspan=\"2\" valign=\"top\">3</th>\n",
       "      <th>train</th>\n",
       "      <td>19</td>\n",
       "      <td>19</td>\n",
       "      <td>19</td>\n",
       "    </tr>\n",
       "    <tr>\n",
       "      <th>val</th>\n",
       "      <td>5</td>\n",
       "      <td>5</td>\n",
       "      <td>5</td>\n",
       "    </tr>\n",
       "    <tr>\n",
       "      <th rowspan=\"2\" valign=\"top\">Mathematical Physics</th>\n",
       "      <th rowspan=\"2\" valign=\"top\">4</th>\n",
       "      <th>train</th>\n",
       "      <td>19</td>\n",
       "      <td>19</td>\n",
       "      <td>19</td>\n",
       "    </tr>\n",
       "    <tr>\n",
       "      <th>val</th>\n",
       "      <td>5</td>\n",
       "      <td>5</td>\n",
       "      <td>5</td>\n",
       "    </tr>\n",
       "    <tr>\n",
       "      <th rowspan=\"2\" valign=\"top\">Nuclear Experiment</th>\n",
       "      <th rowspan=\"2\" valign=\"top\">6</th>\n",
       "      <th>train</th>\n",
       "      <td>19</td>\n",
       "      <td>19</td>\n",
       "      <td>19</td>\n",
       "    </tr>\n",
       "    <tr>\n",
       "      <th>val</th>\n",
       "      <td>5</td>\n",
       "      <td>5</td>\n",
       "      <td>5</td>\n",
       "    </tr>\n",
       "    <tr>\n",
       "      <th rowspan=\"2\" valign=\"top\">Quantum Physics</th>\n",
       "      <th rowspan=\"2\" valign=\"top\">5</th>\n",
       "      <th>train</th>\n",
       "      <td>19</td>\n",
       "      <td>19</td>\n",
       "      <td>19</td>\n",
       "    </tr>\n",
       "    <tr>\n",
       "      <th>val</th>\n",
       "      <td>5</td>\n",
       "      <td>5</td>\n",
       "      <td>5</td>\n",
       "    </tr>\n",
       "  </tbody>\n",
       "</table>\n",
       "</div>"
      ],
      "text/plain": [
       "                                                          title  abstract  category_id\n",
       "categories                               label data_type                              \n",
       "Astrophysics                             0     train         20        20           20\n",
       "                                               val            4         4            4\n",
       "Condensed Matter                         1     train         19        19           19\n",
       "                                               val            5         5            5\n",
       "General Relativity and Quantum Cosmology 2     train         19        19           19\n",
       "                                               val            5         5            5\n",
       "High Energy Physics                      3     train         19        19           19\n",
       "                                               val            5         5            5\n",
       "Mathematical Physics                     4     train         19        19           19\n",
       "                                               val            5         5            5\n",
       "Nuclear Experiment                       6     train         19        19           19\n",
       "                                               val            5         5            5\n",
       "Quantum Physics                          5     train         19        19           19\n",
       "                                               val            5         5            5"
      ]
     },
     "execution_count": 12,
     "metadata": {},
     "output_type": "execute_result"
    }
   ],
   "source": [
    "# Train and validation split\n",
    "from sklearn.model_selection import train_test_split\n",
    "\n",
    "X_train, X_val, y_train, y_val = train_test_split(df.index.values, \n",
    "                                                  df.label.values, \n",
    "                                                  test_size=0.2, \n",
    "                                                  random_state=42, \n",
    "                                                  stratify=df.label.values)\n",
    "\n",
    "df['data_type'] = ['not_set']*df.shape[0]\n",
    "\n",
    "df.loc[X_train, 'data_type'] = 'train'\n",
    "df.loc[X_val, 'data_type'] = 'val'\n",
    "\n",
    "df.groupby(['categories', 'label', 'data_type']).count()"
   ]
  },
  {
   "cell_type": "markdown",
   "id": "939622a8",
   "metadata": {},
   "source": [
    "## Step 2. Tokenization"
   ]
  },
  {
   "cell_type": "code",
   "execution_count": 13,
   "id": "41da3449",
   "metadata": {},
   "outputs": [
    {
     "name": "stderr",
     "output_type": "stream",
     "text": [
      "Truncation was not explicitly activated but `max_length` is provided a specific value, please use `truncation=True` to explicitly truncate examples to max length. Defaulting to 'longest_first' truncation strategy. If you encode pairs of sequences (GLUE-style) with the tokenizer you can select this strategy more precisely by providing a specific strategy to `truncation`.\n",
      "C:\\Users\\Stille\\anaconda3\\lib\\site-packages\\transformers\\tokenization_utils_base.py:2301: FutureWarning: The `pad_to_max_length` argument is deprecated and will be removed in a future version, use `padding=True` or `padding='longest'` to pad to the longest sequence in the batch, or use `padding='max_length'` to pad to a max length. In this case, you can give a specific length with `max_length` (e.g. `max_length=45`) or leave max_length to None to pad to the maximal input size of the model (e.g. 512 for Bert).\n",
      "  warnings.warn(\n"
     ]
    }
   ],
   "source": [
    "# Tokenization\n",
    "tokenizer = BertTokenizer.from_pretrained('bert-base-uncased', \n",
    "                                          do_lower_case=True)\n",
    "                                          \n",
    "encoded_data_train = tokenizer.batch_encode_plus(\n",
    "    df[df.data_type=='train'].title.values, \n",
    "    add_special_tokens=True, \n",
    "    return_attention_mask=True, \n",
    "    pad_to_max_length=True, \n",
    "    max_length=256, \n",
    "    return_tensors='pt'\n",
    ")\n",
    "\n",
    "encoded_data_val = tokenizer.batch_encode_plus(\n",
    "    df[df.data_type=='val'].title.values, \n",
    "    add_special_tokens=True, \n",
    "    return_attention_mask=True, \n",
    "    pad_to_max_length=True, \n",
    "    max_length=256, \n",
    "    return_tensors='pt'\n",
    ")\n",
    "\n",
    "\n",
    "input_ids_train = encoded_data_train['input_ids']\n",
    "attention_masks_train = encoded_data_train['attention_mask']\n",
    "labels_train = torch.tensor(df[df.data_type=='train'].label.values)\n",
    "\n",
    "input_ids_val = encoded_data_val['input_ids']\n",
    "attention_masks_val = encoded_data_val['attention_mask']\n",
    "labels_val = torch.tensor(df[df.data_type=='val'].label.values)\n",
    "\n",
    "dataset_train = TensorDataset(input_ids_train, attention_masks_train, labels_train)\n",
    "dataset_val = TensorDataset(input_ids_val, attention_masks_val, labels_val)"
   ]
  },
  {
   "cell_type": "markdown",
   "id": "0f2c2612",
   "metadata": {},
   "source": [
    "## Step 3. Model and training"
   ]
  },
  {
   "cell_type": "code",
   "execution_count": 14,
   "id": "a662c402",
   "metadata": {},
   "outputs": [
    {
     "name": "stderr",
     "output_type": "stream",
     "text": [
      "Some weights of the model checkpoint at bert-base-uncased were not used when initializing BertForSequenceClassification: ['cls.predictions.transform.dense.bias', 'cls.seq_relationship.bias', 'cls.predictions.bias', 'cls.seq_relationship.weight', 'cls.predictions.transform.LayerNorm.bias', 'cls.predictions.decoder.weight', 'cls.predictions.transform.LayerNorm.weight', 'cls.predictions.transform.dense.weight']\n",
      "- This IS expected if you are initializing BertForSequenceClassification from the checkpoint of a model trained on another task or with another architecture (e.g. initializing a BertForSequenceClassification model from a BertForPreTraining model).\n",
      "- This IS NOT expected if you are initializing BertForSequenceClassification from the checkpoint of a model that you expect to be exactly identical (initializing a BertForSequenceClassification model from a BertForSequenceClassification model).\n",
      "Some weights of BertForSequenceClassification were not initialized from the model checkpoint at bert-base-uncased and are newly initialized: ['classifier.weight', 'classifier.bias']\n",
      "You should probably TRAIN this model on a down-stream task to be able to use it for predictions and inference.\n"
     ]
    }
   ],
   "source": [
    "# BERT Pre-trained Model\n",
    "model = BertForSequenceClassification.from_pretrained(\"bert-base-uncased\",\n",
    "                                                      num_labels=len(label_dict),\n",
    "                                                      output_attentions=False,\n",
    "                                                      output_hidden_states=False)\n",
    "model = model.to(device)"
   ]
  },
  {
   "cell_type": "code",
   "execution_count": 15,
   "id": "777c8f1b",
   "metadata": {},
   "outputs": [],
   "source": [
    "# Dataloader\n",
    "from torch.utils.data import DataLoader, RandomSampler, SequentialSampler\n",
    "\n",
    "batch_size = 5\n",
    "\n",
    "dataloader_train = DataLoader(dataset_train, \n",
    "                              sampler=RandomSampler(dataset_train), \n",
    "                              batch_size=batch_size)\n",
    "\n",
    "dataloader_validation = DataLoader(dataset_val, \n",
    "                                   sampler=SequentialSampler(dataset_val), \n",
    "                                   batch_size=batch_size)"
   ]
  },
  {
   "cell_type": "code",
   "execution_count": 16,
   "id": "99bce636",
   "metadata": {},
   "outputs": [
    {
     "name": "stderr",
     "output_type": "stream",
     "text": [
      "C:\\Users\\Stille\\anaconda3\\lib\\site-packages\\transformers\\optimization.py:306: FutureWarning: This implementation of AdamW is deprecated and will be removed in a future version. Use the PyTorch implementation torch.optim.AdamW instead, or set `no_deprecation_warning=True` to disable this warning\n",
      "  warnings.warn(\n"
     ]
    }
   ],
   "source": [
    "# optimizer and scheduler\n",
    "from transformers import AdamW, get_linear_schedule_with_warmup\n",
    "\n",
    "optimizer = AdamW(model.parameters(),\n",
    "                  lr=1e-5, \n",
    "                  eps=1e-8)\n",
    "                  \n",
    "epochs = 10\n",
    "\n",
    "scheduler = get_linear_schedule_with_warmup(optimizer, \n",
    "                                            num_warmup_steps=0,\n",
    "                                            num_training_steps=len(dataloader_train)*epochs)"
   ]
  },
  {
   "cell_type": "code",
   "execution_count": 17,
   "id": "460428a7",
   "metadata": {},
   "outputs": [],
   "source": [
    "# metrics\n",
    "from sklearn.metrics import f1_score\n",
    "\n",
    "def f1_score_func(preds, labels):\n",
    "    preds_flat = np.argmax(preds, axis=1).flatten()\n",
    "    labels_flat = labels.flatten()\n",
    "    return f1_score(labels_flat, preds_flat, average='weighted')\n",
    "\n",
    "def accuracy_per_class(preds, labels):\n",
    "    label_dict_inverse = {v: k for k, v in label_dict.items()}\n",
    "    \n",
    "    preds_flat = np.argmax(preds, axis=1).flatten()\n",
    "    labels_flat = labels.flatten()\n",
    "\n",
    "    for label in np.unique(labels_flat):\n",
    "        y_preds = preds_flat[labels_flat==label]\n",
    "        y_true = labels_flat[labels_flat==label]\n",
    "        print(f'Class: {label_dict_inverse[label]}')\n",
    "        print(f'Accuracy: {len(y_preds[y_preds==label])}/{len(y_true)}\\n')"
   ]
  },
  {
   "cell_type": "code",
   "execution_count": 18,
   "id": "f790eeb4",
   "metadata": {},
   "outputs": [
    {
     "data": {
      "application/vnd.jupyter.widget-view+json": {
       "model_id": "8e947cebc391490d8c719bb66abcc354",
       "version_major": 2,
       "version_minor": 0
      },
      "text/plain": [
       "  0%|          | 0/10 [00:00<?, ?it/s]"
      ]
     },
     "metadata": {},
     "output_type": "display_data"
    },
    {
     "data": {
      "application/vnd.jupyter.widget-view+json": {
       "model_id": "",
       "version_major": 2,
       "version_minor": 0
      },
      "text/plain": [
       "Epoch 1:   0%|          | 0/27 [00:00<?, ?it/s]"
      ]
     },
     "metadata": {},
     "output_type": "display_data"
    },
    {
     "name": "stdout",
     "output_type": "stream",
     "text": [
      "\n",
      "Epoch 1\n",
      "Training loss: 1.9386628866195679\n",
      "Validation loss: 1.815054212297712\n",
      "F1 Score (Weighted): 0.2871457489878542\n"
     ]
    },
    {
     "data": {
      "application/vnd.jupyter.widget-view+json": {
       "model_id": "",
       "version_major": 2,
       "version_minor": 0
      },
      "text/plain": [
       "Epoch 2:   0%|          | 0/27 [00:00<?, ?it/s]"
      ]
     },
     "metadata": {},
     "output_type": "display_data"
    },
    {
     "name": "stdout",
     "output_type": "stream",
     "text": [
      "\n",
      "Epoch 2\n",
      "Training loss: 1.7339360846413507\n",
      "Validation loss: 1.732507518359593\n",
      "F1 Score (Weighted): 0.28740970072239425\n"
     ]
    },
    {
     "data": {
      "application/vnd.jupyter.widget-view+json": {
       "model_id": "",
       "version_major": 2,
       "version_minor": 0
      },
      "text/plain": [
       "Epoch 3:   0%|          | 0/27 [00:00<?, ?it/s]"
      ]
     },
     "metadata": {},
     "output_type": "display_data"
    },
    {
     "name": "stdout",
     "output_type": "stream",
     "text": [
      "\n",
      "Epoch 3\n",
      "Training loss: 1.5619208812713623\n",
      "Validation loss: 1.6781314781733923\n",
      "F1 Score (Weighted): 0.4368512110726644\n"
     ]
    },
    {
     "data": {
      "application/vnd.jupyter.widget-view+json": {
       "model_id": "",
       "version_major": 2,
       "version_minor": 0
      },
      "text/plain": [
       "Epoch 4:   0%|          | 0/27 [00:00<?, ?it/s]"
      ]
     },
     "metadata": {},
     "output_type": "display_data"
    },
    {
     "name": "stdout",
     "output_type": "stream",
     "text": [
      "\n",
      "Epoch 4\n",
      "Training loss: 1.4742709045056943\n",
      "Validation loss: 1.6408398151397705\n",
      "F1 Score (Weighted): 0.4854083344567774\n"
     ]
    },
    {
     "data": {
      "application/vnd.jupyter.widget-view+json": {
       "model_id": "",
       "version_major": 2,
       "version_minor": 0
      },
      "text/plain": [
       "Epoch 5:   0%|          | 0/27 [00:00<?, ?it/s]"
      ]
     },
     "metadata": {},
     "output_type": "display_data"
    },
    {
     "name": "stdout",
     "output_type": "stream",
     "text": [
      "\n",
      "Epoch 5\n",
      "Training loss: 1.3377542010060064\n",
      "Validation loss: 1.5537586552756173\n",
      "F1 Score (Weighted): 0.48237628384687214\n"
     ]
    },
    {
     "data": {
      "application/vnd.jupyter.widget-view+json": {
       "model_id": "",
       "version_major": 2,
       "version_minor": 0
      },
      "text/plain": [
       "Epoch 6:   0%|          | 0/27 [00:00<?, ?it/s]"
      ]
     },
     "metadata": {},
     "output_type": "display_data"
    },
    {
     "name": "stdout",
     "output_type": "stream",
     "text": [
      "\n",
      "Epoch 6\n",
      "Training loss: 1.2626292396474768\n",
      "Validation loss: 1.521634680884225\n",
      "F1 Score (Weighted): 0.5578367710720651\n"
     ]
    },
    {
     "data": {
      "application/vnd.jupyter.widget-view+json": {
       "model_id": "",
       "version_major": 2,
       "version_minor": 0
      },
      "text/plain": [
       "Epoch 7:   0%|          | 0/27 [00:00<?, ?it/s]"
      ]
     },
     "metadata": {},
     "output_type": "display_data"
    },
    {
     "name": "stdout",
     "output_type": "stream",
     "text": [
      "\n",
      "Epoch 7\n",
      "Training loss: 1.1866432030995686\n",
      "Validation loss: 1.4996697221483504\n",
      "F1 Score (Weighted): 0.5640968508615567\n"
     ]
    },
    {
     "data": {
      "application/vnd.jupyter.widget-view+json": {
       "model_id": "",
       "version_major": 2,
       "version_minor": 0
      },
      "text/plain": [
       "Epoch 8:   0%|          | 0/27 [00:00<?, ?it/s]"
      ]
     },
     "metadata": {},
     "output_type": "display_data"
    },
    {
     "name": "stdout",
     "output_type": "stream",
     "text": [
      "\n",
      "Epoch 8\n",
      "Training loss: 1.111799743440416\n",
      "Validation loss: 1.4704238516943795\n",
      "F1 Score (Weighted): 0.5594283167812579\n"
     ]
    },
    {
     "data": {
      "application/vnd.jupyter.widget-view+json": {
       "model_id": "",
       "version_major": 2,
       "version_minor": 0
      },
      "text/plain": [
       "Epoch 9:   0%|          | 0/27 [00:00<?, ?it/s]"
      ]
     },
     "metadata": {},
     "output_type": "display_data"
    },
    {
     "name": "stdout",
     "output_type": "stream",
     "text": [
      "\n",
      "Epoch 9\n",
      "Training loss: 1.0968734798608002\n",
      "Validation loss: 1.4688770430428642\n",
      "F1 Score (Weighted): 0.5247211938388409\n"
     ]
    },
    {
     "data": {
      "application/vnd.jupyter.widget-view+json": {
       "model_id": "",
       "version_major": 2,
       "version_minor": 0
      },
      "text/plain": [
       "Epoch 10:   0%|          | 0/27 [00:00<?, ?it/s]"
      ]
     },
     "metadata": {},
     "output_type": "display_data"
    },
    {
     "name": "stdout",
     "output_type": "stream",
     "text": [
      "\n",
      "Epoch 10\n",
      "Training loss: 1.0574228785656117\n",
      "Validation loss: 1.4543318067278181\n",
      "F1 Score (Weighted): 0.5894024276377217\n"
     ]
    }
   ],
   "source": [
    "# training\n",
    "import random\n",
    "\n",
    "seed_val = 17\n",
    "random.seed(seed_val)\n",
    "np.random.seed(seed_val)\n",
    "torch.manual_seed(seed_val)\n",
    "torch.cuda.manual_seed_all(seed_val)\n",
    "\n",
    "def evaluate(dataloader_val):\n",
    "\n",
    "    model.eval()\n",
    "    \n",
    "    loss_val_total = 0\n",
    "    predictions, true_vals = [], []\n",
    "    \n",
    "    for batch in dataloader_val:\n",
    "        \n",
    "        batch = tuple(b.to(device) for b in batch)\n",
    "        \n",
    "        inputs = {'input_ids':      batch[0],\n",
    "                  'attention_mask': batch[1],\n",
    "                  'labels':         batch[2],\n",
    "                 }\n",
    "\n",
    "        with torch.no_grad():        \n",
    "            outputs = model(**inputs)\n",
    "            \n",
    "        loss = outputs[0]\n",
    "        logits = outputs[1]\n",
    "        loss_val_total += loss.item()\n",
    "\n",
    "        logits = logits.detach().cpu().numpy()\n",
    "        label_ids = inputs['labels'].cpu().numpy()\n",
    "        predictions.append(logits)\n",
    "        true_vals.append(label_ids)\n",
    "    \n",
    "    loss_val_avg = loss_val_total/len(dataloader_val) \n",
    "    \n",
    "    predictions = np.concatenate(predictions, axis=0)\n",
    "    true_vals = np.concatenate(true_vals, axis=0)\n",
    "            \n",
    "    return loss_val_avg, predictions, true_vals\n",
    "    \n",
    "for epoch in tqdm(range(1, epochs+1)):\n",
    "    \n",
    "    model.train()\n",
    "    \n",
    "    loss_train_total = 0\n",
    "\n",
    "    progress_bar = tqdm(dataloader_train, desc='Epoch {:1d}'.format(epoch), leave=False, disable=False)\n",
    "    for batch in progress_bar:\n",
    "\n",
    "        model.zero_grad()\n",
    "        \n",
    "        batch = tuple(b.to(device) for b in batch)\n",
    "        \n",
    "        inputs = {'input_ids':      batch[0],\n",
    "                  'attention_mask': batch[1],\n",
    "                  'labels':         batch[2],\n",
    "                 }       \n",
    "\n",
    "        outputs = model(**inputs)\n",
    "        \n",
    "        loss = outputs[0]\n",
    "        loss_train_total += loss.item()\n",
    "        loss.backward()\n",
    "\n",
    "        torch.nn.utils.clip_grad_norm_(model.parameters(), 1.0)\n",
    "\n",
    "        optimizer.step()\n",
    "        scheduler.step()\n",
    "        \n",
    "        progress_bar.set_postfix({'training_loss': '{:.3f}'.format(loss.item()/len(batch))})\n",
    "         \n",
    "        \n",
    "    torch.save(model.state_dict(), f'data_volume/finetuned_BERT_epoch_{epoch}.model')\n",
    "        \n",
    "    tqdm.write(f'\\nEpoch {epoch}')\n",
    "    \n",
    "    loss_train_avg = loss_train_total/len(dataloader_train)            \n",
    "    tqdm.write(f'Training loss: {loss_train_avg}')\n",
    "    \n",
    "    val_loss, predictions, true_vals = evaluate(dataloader_validation)\n",
    "    val_f1 = f1_score_func(predictions, true_vals)\n",
    "    tqdm.write(f'Validation loss: {val_loss}')\n",
    "    tqdm.write(f'F1 Score (Weighted): {val_f1}')"
   ]
  },
  {
   "cell_type": "code",
   "execution_count": null,
   "id": "96b4d83f",
   "metadata": {},
   "outputs": [],
   "source": []
  }
 ],
 "metadata": {
  "kernelspec": {
   "display_name": "Python 3",
   "language": "python",
   "name": "python3"
  },
  "language_info": {
   "codemirror_mode": {
    "name": "ipython",
    "version": 3
   },
   "file_extension": ".py",
   "mimetype": "text/x-python",
   "name": "python",
   "nbconvert_exporter": "python",
   "pygments_lexer": "ipython3",
   "version": "3.8.8"
  }
 },
 "nbformat": 4,
 "nbformat_minor": 5
}
